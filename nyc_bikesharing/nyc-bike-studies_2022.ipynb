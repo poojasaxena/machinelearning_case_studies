{
 "cells": [
  {
   "cell_type": "code",
   "execution_count": null,
   "id": "61b1b4bc",
   "metadata": {},
   "outputs": [],
   "source": [
    "%autosave 60"
   ]
  },
  {
   "cell_type": "markdown",
   "id": "ebf8e7fd",
   "metadata": {},
   "source": [
    "# NYC dataset"
   ]
  },
  {
   "cell_type": "markdown",
   "id": "9530e230",
   "metadata": {},
   "source": [
    "# Basics"
   ]
  },
  {
   "cell_type": "markdown",
   "id": "7eaa5470",
   "metadata": {},
   "source": [
    "## Import Libraries"
   ]
  },
  {
   "cell_type": "code",
   "execution_count": null,
   "id": "1a66c660",
   "metadata": {},
   "outputs": [],
   "source": [
    "import os\n",
    "import sys\n",
    "import numpy as np\n",
    "import pandas as pd\n",
    "import seaborn as sns\n",
    "import matplotlib.pyplot as plt\n",
    "from datetime import datetime, date\n",
    "from pandas_profiling import ProfileReport\n",
    "\n",
    "## For geomap purpose\n",
    "import geopandas\n",
    "import folium\n",
    "\n",
    "## For checking missing values\n",
    "import missingno as msno\n",
    "\n",
    "## For test/train splititng\n",
    "from sklearn.model_selection import train_test_split\n",
    "\n",
    "%matplotlib inline"
   ]
  },
  {
   "cell_type": "code",
   "execution_count": null,
   "id": "29f2d5a8",
   "metadata": {},
   "outputs": [],
   "source": [
    "#! python3 -m pip install --user bokeh==2.3.3"
   ]
  },
  {
   "cell_type": "markdown",
   "id": "e0463a3f",
   "metadata": {},
   "source": [
    "## upload dataset"
   ]
  },
  {
   "cell_type": "code",
   "execution_count": null,
   "id": "bdf90a28",
   "metadata": {},
   "outputs": [],
   "source": [
    "path_dataset = os.getenv(\"DirForLocalDataset\") + '/axa_dataset'"
   ]
  },
  {
   "cell_type": "code",
   "execution_count": null,
   "id": "0b203598",
   "metadata": {},
   "outputs": [],
   "source": [
    "df_bike = pd.read_csv(os.path.join(path_dataset, os.listdir(path_dataset)[1]))\n",
    "df_bike.head()"
   ]
  },
  {
   "cell_type": "markdown",
   "id": "f7b4a99f",
   "metadata": {},
   "source": [
    "# insight into data"
   ]
  },
  {
   "cell_type": "code",
   "execution_count": null,
   "id": "b9c3937c",
   "metadata": {},
   "outputs": [],
   "source": [
    "print(f\"Shape of dataset is {df_bike.shape}\")\n",
    "print(df_bike.dtypes)"
   ]
  },
  {
   "cell_type": "code",
   "execution_count": null,
   "id": "75b3c830",
   "metadata": {},
   "outputs": [],
   "source": [
    "df_bike.describe()"
   ]
  },
  {
   "cell_type": "markdown",
   "id": "066c4a54",
   "metadata": {},
   "source": [
    "## Profiling"
   ]
  },
  {
   "cell_type": "code",
   "execution_count": null,
   "id": "98cd78c5",
   "metadata": {},
   "outputs": [],
   "source": [
    "profile = ProfileReport(df_bike, title=\"Pandas Profiling Report\")\n",
    "#profile"
   ]
  },
  {
   "cell_type": "markdown",
   "id": "47bbc7f9",
   "metadata": {},
   "source": [
    "## statistics"
   ]
  },
  {
   "cell_type": "code",
   "execution_count": null,
   "id": "c4ea696c",
   "metadata": {},
   "outputs": [],
   "source": [
    "def draw_stats(df, n_rows=10, n_cols=2):\n",
    "    \n",
    "    fig, axes = plt.subplots(nrows=n_rows, ncols=n_cols, figsize=(20,25))\n",
    "\n",
    "    i = 1\n",
    "    for col in df.columns:\n",
    "        if df[col].dtype == np.float64 or df[col].dtype == np.int64:\n",
    "            ax = plt.subplot(n_rows, n_cols, i)\n",
    "            df[col].hist(bins=30)\n",
    "            ax.set_title(col)\n",
    "            i += 1\n",
    "            ax = plt.subplot(n_rows, n_cols, i)\n",
    "            df[col].hist(bins=30)\n",
    "            ax.set_title(col+\" (log scale)\")\n",
    "            ax.set_yscale('log')\n",
    "            i += 1\n",
    "\n",
    "    fig.tight_layout()\n",
    "    plt.show()"
   ]
  },
  {
   "cell_type": "code",
   "execution_count": null,
   "id": "00a2f084",
   "metadata": {
    "scrolled": true
   },
   "outputs": [],
   "source": [
    "draw_stats(df_bike)"
   ]
  },
  {
   "cell_type": "markdown",
   "id": "f1d6b147",
   "metadata": {},
   "source": [
    "## Check coorrelation"
   ]
  },
  {
   "cell_type": "code",
   "execution_count": null,
   "id": "ab1c9ef9",
   "metadata": {},
   "outputs": [],
   "source": [
    "corr = df_bike.corr()\n",
    "sns.heatmap(corr, \n",
    "        xticklabels=corr.columns,\n",
    "        yticklabels=corr.columns)"
   ]
  },
  {
   "cell_type": "markdown",
   "id": "b4b8443e",
   "metadata": {},
   "source": [
    "# Preprocessing"
   ]
  },
  {
   "cell_type": "markdown",
   "id": "d0357bcb",
   "metadata": {},
   "source": [
    "## Check null"
   ]
  },
  {
   "cell_type": "code",
   "execution_count": null,
   "id": "dd7acd92",
   "metadata": {},
   "outputs": [],
   "source": [
    "df_bike.isnull().sum() * 100 / len(df_bike)"
   ]
  },
  {
   "cell_type": "markdown",
   "id": "fe59d7e4",
   "metadata": {},
   "source": [
    "## How to deal with missing values?"
   ]
  },
  {
   "cell_type": "code",
   "execution_count": null,
   "id": "84dfdbef",
   "metadata": {},
   "outputs": [],
   "source": [
    "msno.matrix(df_bike)"
   ]
  },
  {
   "cell_type": "code",
   "execution_count": null,
   "id": "88453da0",
   "metadata": {
    "scrolled": true
   },
   "outputs": [],
   "source": [
    "msno.heatmap(df_bike)"
   ]
  },
  {
   "cell_type": "code",
   "execution_count": null,
   "id": "6d8846eb",
   "metadata": {},
   "outputs": [],
   "source": [
    "df_bike=df_bike.dropna(subset=['end station name']) #3% of data"
   ]
  },
  {
   "cell_type": "code",
   "execution_count": null,
   "id": "ea58fca5",
   "metadata": {},
   "outputs": [],
   "source": [
    "df_bike.isnull().sum() * 100 / len(df_bike)"
   ]
  },
  {
   "cell_type": "code",
   "execution_count": null,
   "id": "02a568c4",
   "metadata": {
    "scrolled": true
   },
   "outputs": [],
   "source": [
    "df_bike['dob_missing'] = \"\"\n",
    "df_bike['dob_missing'] = False\n",
    "df_bike.loc[df_bike[df_bike['birth year'].isnull()].index, 'dob_missing'] = True\n",
    "df_bike.head(2)"
   ]
  },
  {
   "cell_type": "code",
   "execution_count": null,
   "id": "1aef620b",
   "metadata": {
    "scrolled": true
   },
   "outputs": [],
   "source": [
    "df_bike[df_bike[\"dob_missing\"]==True].groupby(\"gender\")[\"dob_missing\"].count()"
   ]
  },
  {
   "cell_type": "code",
   "execution_count": null,
   "id": "1f56abb3",
   "metadata": {},
   "outputs": [],
   "source": [
    "df_bike[df_bike[\"dob_missing\"]==True].groupby(\"usertype\")[\"dob_missing\"].count()"
   ]
  },
  {
   "cell_type": "markdown",
   "id": "9890f2f8",
   "metadata": {},
   "source": [
    "# Feature Engineering"
   ]
  },
  {
   "cell_type": "markdown",
   "id": "4ed6631f",
   "metadata": {},
   "source": [
    "## Time"
   ]
  },
  {
   "cell_type": "markdown",
   "id": "88bf15aa",
   "metadata": {},
   "source": [
    "### Convert timestamp to datetime variable"
   ]
  },
  {
   "cell_type": "code",
   "execution_count": null,
   "id": "acc3d1c0",
   "metadata": {},
   "outputs": [],
   "source": [
    "df_bike[\"starttime\"] = pd.to_datetime(df_bike['starttime'], format='%Y-%m-%d %H:%M:%S') \n",
    "df_bike[\"stoptime\"]  = pd.to_datetime(df_bike['stoptime'], format='%Y-%m-%d %H:%M:%S')"
   ]
  },
  {
   "cell_type": "markdown",
   "id": "54e8e1f9",
   "metadata": {},
   "source": [
    "### Calculate Month/time/weekday from timetamp"
   ]
  },
  {
   "cell_type": "code",
   "execution_count": null,
   "id": "90304f42",
   "metadata": {},
   "outputs": [],
   "source": [
    "df_bike['month']= df_bike['starttime'].dt.month_name()\n",
    "df_bike['time'] =  df_bike['starttime'].dt.time\n",
    "df_bike['weekday'] = df_bike['starttime'].dt.day_name()"
   ]
  },
  {
   "cell_type": "code",
   "execution_count": null,
   "id": "12bda74c",
   "metadata": {},
   "outputs": [],
   "source": [
    "from pandas.api.types import CategoricalDtype\n",
    "cats = [ 'Monday', 'Tuesday', 'Wednesday', 'Thursday', 'Friday', 'Saturday', 'Sunday']\n",
    "\n",
    "cat_type = CategoricalDtype(categories=cats, ordered=True)\n",
    "df_bike['weekday'] = df_bike['weekday'].astype(cat_type)"
   ]
  },
  {
   "cell_type": "code",
   "execution_count": null,
   "id": "45f3f1bf",
   "metadata": {
    "scrolled": true
   },
   "outputs": [],
   "source": [
    "df_bike.head(2)"
   ]
  },
  {
   "cell_type": "markdown",
   "id": "1d87e4a8",
   "metadata": {},
   "source": [
    "### Which year/month the dataset belongs to?"
   ]
  },
  {
   "cell_type": "code",
   "execution_count": null,
   "id": "506e16e3",
   "metadata": {},
   "outputs": [],
   "source": [
    "df_bike[df_bike['month']==\"July\"]['month'].count()"
   ]
  },
  {
   "cell_type": "code",
   "execution_count": null,
   "id": "d4b066a0",
   "metadata": {},
   "outputs": [],
   "source": [
    "# Pie chart, where the slices will be ordered and plotted counter-clockwise:\n",
    "labels = 'June', 'July'\n",
    "sizes = [df_bike[df_bike['month']==\"June\"]['month'].count(), df_bike[df_bike['month']==\"July\"]['month'].count()]\n",
    "explode = (0, 0.1)  # only \"explode\" the 2nd slice (i.e. 'Hogs')\n",
    "\n",
    "fig1, ax1 = plt.subplots()\n",
    "ax1.pie(sizes, explode=explode, labels=labels, autopct='%1.1f%%',\n",
    "        shadow=True, startangle=90)\n",
    "ax1.axis('equal')  # Equal aspect ratio ensures that pie is drawn as a circle.\n",
    "\n",
    "plt.show()"
   ]
  },
  {
   "cell_type": "code",
   "execution_count": null,
   "id": "8b623a33",
   "metadata": {},
   "outputs": [],
   "source": [
    "plt.pie(df_bike['month'].unique())"
   ]
  },
  {
   "cell_type": "code",
   "execution_count": null,
   "id": "b3d8f90a",
   "metadata": {},
   "outputs": [],
   "source": [
    "df_bike['month'].value_counts()"
   ]
  },
  {
   "cell_type": "markdown",
   "id": "478ae026",
   "metadata": {},
   "source": [
    "## Users"
   ]
  },
  {
   "cell_type": "markdown",
   "id": "1784ebc6",
   "metadata": {},
   "source": [
    "### Convert gender as string categorical"
   ]
  },
  {
   "cell_type": "code",
   "execution_count": null,
   "id": "086e8d87",
   "metadata": {},
   "outputs": [],
   "source": [
    "df_bike['gender'].unique()"
   ]
  },
  {
   "cell_type": "code",
   "execution_count": null,
   "id": "ac217f8d",
   "metadata": {},
   "outputs": [],
   "source": [
    "genders = ['Unknown','Male','Female']\n",
    "df_bike['gender']= df_bike['gender'].replace([0, 1, 2], genders)\n",
    "df_bike[\"gender\"] = df_bike[\"gender\"].astype(\"category\")\n",
    "df_bike.head(2)"
   ]
  },
  {
   "cell_type": "markdown",
   "id": "3642fc96",
   "metadata": {},
   "source": [
    "### Calculate age of the users"
   ]
  },
  {
   "cell_type": "code",
   "execution_count": null,
   "id": "34fe8139",
   "metadata": {},
   "outputs": [],
   "source": [
    "skip = (df_bike['birth year'] < 1946) | (df_bike['gender'] == 0) \n",
    "df_bike['age'] = (date.today().year - df_bike['birth year']).mask(skip,None)"
   ]
  },
  {
   "cell_type": "code",
   "execution_count": null,
   "id": "18bcf16e",
   "metadata": {},
   "outputs": [],
   "source": [
    "df_bike.head(2)"
   ]
  },
  {
   "cell_type": "markdown",
   "id": "6ed83ad3",
   "metadata": {},
   "source": [
    "## Geo Info"
   ]
  },
  {
   "cell_type": "markdown",
   "id": "bd769dcf",
   "metadata": {},
   "source": [
    "### Calculate distance between start/end"
   ]
  },
  {
   "cell_type": "code",
   "execution_count": null,
   "id": "6c2ce33f",
   "metadata": {},
   "outputs": [],
   "source": [
    "def get_distance(lat1, lon1, lat2, lon2):\n",
    "    earth_radius=6371\n",
    "    lat1, lon1, lat2, lon2 = np.radians([lat1, lon1, lat2, lon2])\n",
    "\n",
    "    a = np.sin((lat2-lat1)/2.0)**2 + \\\n",
    "        np.cos(lat1) * np.cos(lat2) * np.sin((lon2-lon1)/2.0)**2\n",
    "\n",
    "    return earth_radius * 2 * np.arcsin(np.sqrt(a))    "
   ]
  },
  {
   "cell_type": "code",
   "execution_count": null,
   "id": "96369910",
   "metadata": {},
   "outputs": [],
   "source": [
    "df_bike['dist_km'] = get_distance(df_bike[\"start station latitude\"], df_bike[\"start station longitude\"], \n",
    "                                    df_bike[\"end station latitude\"], df_bike[\"end station longitude\"])"
   ]
  },
  {
   "cell_type": "markdown",
   "id": "ab64d3be",
   "metadata": {},
   "source": [
    "## Trip Information"
   ]
  },
  {
   "cell_type": "markdown",
   "id": "3366bd31",
   "metadata": {},
   "source": [
    "### Lets find tripduration in minutes/hour"
   ]
  },
  {
   "cell_type": "code",
   "execution_count": null,
   "id": "11847457",
   "metadata": {},
   "outputs": [],
   "source": [
    "# Collect all trips shorter than 1 hour\n",
    "#duration_mins = df_bike.loc[(df_bike.tripduration / 60 < 60)][['tripduration']]\n",
    "df_bike['duration_mins'] = df_bike['tripduration']/60\n",
    "df_bike['duration_hr'] = df_bike['tripduration']/(60*60)"
   ]
  },
  {
   "cell_type": "markdown",
   "id": "4049b3cf",
   "metadata": {},
   "source": [
    "## Data Analysis"
   ]
  },
  {
   "cell_type": "markdown",
   "id": "079034b4",
   "metadata": {},
   "source": [
    "###  How users are distributed during Weekdays?"
   ]
  },
  {
   "cell_type": "code",
   "execution_count": null,
   "id": "fec52293",
   "metadata": {},
   "outputs": [],
   "source": [
    "fig, ax = plt.subplots(figsize=(8,6))\n",
    "\n",
    "df_bike[df_bike['usertype']==\"Customer\"].groupby(\"weekday\")[\"usertype\"].count().plot(ax=ax, label='Customer', marker='o',legend=True)\n",
    "df_bike[df_bike['usertype']==\"Subscriber\"].groupby(\"weekday\")[\"usertype\"].count().plot(ax=ax, label='Subscriber', marker='o', legend=True)\n",
    "plt.title(\"Distribution of Usertype during Weekday\")\n",
    "plt.xlabel(\"Weekday\")\n",
    "plt.ylabel('Count')\n",
    "plt.savefig(\"usertype_during_weekday.png\")"
   ]
  },
  {
   "cell_type": "markdown",
   "id": "63b22307",
   "metadata": {},
   "source": [
    "### What are our users?"
   ]
  },
  {
   "cell_type": "code",
   "execution_count": null,
   "id": "28e39481",
   "metadata": {},
   "outputs": [],
   "source": [
    "def get_label_size_list(df, column):\n",
    "    label_list= []\n",
    "    size_list = []\n",
    "    \n",
    "    value_list = df[column].unique()\n",
    "    [label_list.append(val) for val in value_list]\n",
    "    [size_list.append(df[df[column]==val][column].count()) for val in value_list]\n",
    "    \n",
    "    return label_list, size_list"
   ]
  },
  {
   "cell_type": "code",
   "execution_count": null,
   "id": "0b9cf832",
   "metadata": {},
   "outputs": [],
   "source": [
    "get_label_size_list(df_bike, 'gender')"
   ]
  },
  {
   "cell_type": "code",
   "execution_count": null,
   "id": "059054d1",
   "metadata": {},
   "outputs": [],
   "source": [
    "# Pie chart\n",
    "labels = get_label_size_list(df_bike, 'gender')[0]\n",
    "sizes =  get_label_size_list(df_bike, 'gender')[1]\n",
    "explode = (0, 0.1,0)  \n",
    "\n",
    "fig1, ax1 = plt.subplots()\n",
    "ax1.pie(sizes, explode=explode, labels=labels, autopct='%1.1f%%',\n",
    "        shadow=True, startangle=90)\n",
    "ax1.axis('equal')  \n",
    "\n",
    "plt.show()\n",
    "plt.savefig('gender_pie_dist.png')"
   ]
  },
  {
   "cell_type": "markdown",
   "id": "04623ae2",
   "metadata": {},
   "source": [
    "### Age boxplot"
   ]
  },
  {
   "cell_type": "code",
   "execution_count": null,
   "id": "97bcca49",
   "metadata": {},
   "outputs": [],
   "source": [
    "sns.set_theme(style=\"whitegrid\")\n",
    "sns.boxplot(x=df_bike[\"age\"], width=0.5)\n",
    "plt.savefig('age_boxplot.png')"
   ]
  },
  {
   "cell_type": "markdown",
   "id": "7b965650",
   "metadata": {},
   "source": [
    "###  Age vs Weekday Distribution"
   ]
  },
  {
   "cell_type": "code",
   "execution_count": null,
   "id": "0106e12e",
   "metadata": {},
   "outputs": [],
   "source": [
    "sns.set(rc={'figure.figsize':(8,5)})\n",
    "sns.set_theme(style=\"whitegrid\")\n",
    "bplot=sns.boxplot(x=\"weekday\", y=\"age\", palette=\"colorblind\", data=df_bike)\n",
    "bplot.axes.set_title(\"Distribution of age during Weekday\", fontsize=16)\n",
    "bplot.set_ylabel(\"Age\", fontsize=14)\n",
    "bplot.set_xlabel(\"Weekday\", fontsize=14)\n",
    "plt.savefig('age_weekday_boxplot.png')"
   ]
  },
  {
   "cell_type": "markdown",
   "id": "6fd593e4",
   "metadata": {},
   "source": [
    "### How many Unique bikes are avaialble?"
   ]
  },
  {
   "cell_type": "code",
   "execution_count": null,
   "id": "b9108775",
   "metadata": {},
   "outputs": [],
   "source": [
    "bplot=sns.histplot(df_bike[\"bikeid\"].unique())\n",
    "bplot.set_xlabel(\"Unique BikeId\", fontsize=14)\n",
    "plt.savefig(\"Unique_bikes.png\")\n",
    "print(\"number of unique bike-id is: \", df_bike[\"bikeid\"].unique().shape)"
   ]
  },
  {
   "cell_type": "markdown",
   "id": "7986b2eb",
   "metadata": {},
   "source": [
    "### Distribution of age usage"
   ]
  },
  {
   "cell_type": "code",
   "execution_count": null,
   "id": "3005ce43",
   "metadata": {},
   "outputs": [],
   "source": [
    "sns.displot(data=df_bike, x='age', hue='gender', multiple='stack',  aspect=10/5)"
   ]
  },
  {
   "cell_type": "code",
   "execution_count": null,
   "id": "cada061d",
   "metadata": {},
   "outputs": [],
   "source": []
  },
  {
   "cell_type": "markdown",
   "id": "a79dbc30",
   "metadata": {},
   "source": [
    "### Which station had the oldest riders on average"
   ]
  },
  {
   "cell_type": "code",
   "execution_count": null,
   "id": "9eae087c",
   "metadata": {},
   "outputs": [],
   "source": [
    "df_bike.groupby(by=[\"start station id\"]).mean().sort_values(by=['birth year'])"
   ]
  },
  {
   "cell_type": "code",
   "execution_count": null,
   "id": "0d2d3c50",
   "metadata": {},
   "outputs": [],
   "source": [
    "df_bike.groupby([\"starttime\", \"usertype\"]).count()"
   ]
  },
  {
   "cell_type": "code",
   "execution_count": null,
   "id": "e25c4609",
   "metadata": {},
   "outputs": [],
   "source": [
    "df_bike[df_bike['usertype']==\"Customer\"].groupby([\"weekday\",'tripduration']).count()"
   ]
  },
  {
   "cell_type": "code",
   "execution_count": null,
   "id": "2f565bd1",
   "metadata": {},
   "outputs": [],
   "source": [
    "df_bike.set_index('starttime', inplace=True)"
   ]
  },
  {
   "cell_type": "markdown",
   "id": "1387baa9",
   "metadata": {},
   "source": [
    "### Trip duration"
   ]
  },
  {
   "cell_type": "code",
   "execution_count": null,
   "id": "75c10182",
   "metadata": {},
   "outputs": [],
   "source": [
    "sns.displot(data=df_bike, x=\"dist (km)\",  aspect=10/5)"
   ]
  },
  {
   "cell_type": "markdown",
   "id": "aa7f6f65",
   "metadata": {},
   "source": [
    "### Distribution of trip duration"
   ]
  },
  {
   "cell_type": "code",
   "execution_count": null,
   "id": "e0b3261c",
   "metadata": {},
   "outputs": [],
   "source": [
    "plt.rcParams.update({'font.size': 16})\n",
    "plt.hist(df_bike['duration_mins'][df_bike['duration_mins']<60])\n",
    "plt.tick_params(axis = 'both', which = 'major')\n",
    "plt.title('Distribution of trip durations\\n')\n",
    "plt.xlabel('Duration (min.)')\n",
    "plt.ylabel('Trip counts')"
   ]
  },
  {
   "cell_type": "markdown",
   "id": "7e1cbe31",
   "metadata": {},
   "source": [
    "### Usertype vs time"
   ]
  },
  {
   "cell_type": "code",
   "execution_count": null,
   "id": "917fef45",
   "metadata": {},
   "outputs": [],
   "source": [
    "fig, ax = plt.subplots(figsize=(15,7))\n",
    "df_bike.groupby('usertype')['tripduration'].plot(legend=True, ax=ax)"
   ]
  },
  {
   "cell_type": "markdown",
   "id": "47dca5f5",
   "metadata": {},
   "source": [
    "### User/Gender Distribution"
   ]
  },
  {
   "cell_type": "code",
   "execution_count": null,
   "id": "c0ef2f78",
   "metadata": {},
   "outputs": [],
   "source": [
    "trip_counts = df_bike.groupby('gender')['gender'].count()\n",
    "# Plot\n",
    "plt.rcParams.update({'font.size': 12})\n",
    "plt.barh(gender, trip_counts / 1000000, align = 'center', alpha = 0.5)\n",
    "plt.xlabel('Millions of trips')\n",
    "plt.title('Distribution of trips according to user gender')\n",
    "plt.show()"
   ]
  },
  {
   "cell_type": "markdown",
   "id": "36640493",
   "metadata": {},
   "source": [
    "### Gender vs usertype"
   ]
  },
  {
   "cell_type": "code",
   "execution_count": null,
   "id": "f7c07f26",
   "metadata": {},
   "outputs": [],
   "source": [
    "df_bike.groupby([\"usertype\"])['gender'].unique()"
   ]
  },
  {
   "cell_type": "markdown",
   "id": "46794836",
   "metadata": {},
   "source": [
    "### How usertype are divided during month "
   ]
  },
  {
   "cell_type": "code",
   "execution_count": null,
   "id": "4baadd16",
   "metadata": {
    "scrolled": true
   },
   "outputs": [],
   "source": [
    "df_bike.reset_index()\n",
    "\n",
    "# plot data\n",
    "fig, ax = plt.subplots(figsize=(15,7))\n",
    "df_bike.groupby(['starttime','usertype']).count()['tripduration'].unstack().plot(ax=ax)"
   ]
  },
  {
   "cell_type": "markdown",
   "id": "31a04958",
   "metadata": {},
   "source": [
    "## Feature Enginerring"
   ]
  },
  {
   "cell_type": "code",
   "execution_count": null,
   "id": "5a752094",
   "metadata": {},
   "outputs": [],
   "source": [
    "print(df_bike.dtypes)\n",
    "df_bike.head()"
   ]
  },
  {
   "cell_type": "markdown",
   "id": "be373ef9",
   "metadata": {},
   "source": [
    "### Drop unnecessery Features"
   ]
  },
  {
   "cell_type": "code",
   "execution_count": null,
   "id": "06fde1df",
   "metadata": {},
   "outputs": [],
   "source": [
    "feature_to_drop=[\"\"]\n",
    "df_bike=df_bike.drop(feature_to_drop, axis=1)\n",
    "df_bike.head()"
   ]
  },
  {
   "cell_type": "code",
   "execution_count": null,
   "id": "e46c6cee",
   "metadata": {},
   "outputs": [],
   "source": [
    "n_bins=30\n",
    "x = np.random.randn(1000, 3)\n",
    "colors = ['blue', 'orange', 'green']\n",
    "plt.hist(x, n_bins, density=1, histtype='bar', stacked=True, label=colors)\n",
    "plt.legend(loc=\"upper right\")\n",
    "plt.title('Stacked-histogram ')\n",
    "plt.show()"
   ]
  },
  {
   "cell_type": "code",
   "execution_count": null,
   "id": "be44164c",
   "metadata": {},
   "outputs": [],
   "source": [
    "list_for_boxplot= [\"start station id\", \"end station id\"]\n",
    "#sns.boxplot(x='variable', y='value', data=pd.melt(df_bike[list_for_boxplot]))\n",
    "sns.boxplot(x='variable', y='value', data=pd.melt(df_bike[[\"start station id\"]]))"
   ]
  },
  {
   "cell_type": "markdown",
   "id": "62966469",
   "metadata": {},
   "source": [
    "### Geography "
   ]
  },
  {
   "cell_type": "code",
   "execution_count": null,
   "id": "ec17370b",
   "metadata": {},
   "outputs": [],
   "source": [
    "gdf = geopandas.GeoDataFrame(df_bike, geometry=geopandas.points_from_xy(df_bike[\"start station longitude\"], \n",
    "                                                                        df_bike[\"start station latitude\"]))"
   ]
  },
  {
   "cell_type": "code",
   "execution_count": null,
   "id": "004b6c9b",
   "metadata": {},
   "outputs": [],
   "source": [
    "world = geopandas.read_file(geopandas.datasets.get_path('naturalearth_lowres'))\n",
    "\n",
    "# We restrict to South America.\n",
    "ax = world[world.continent == 'North America'].plot(\n",
    "    color='white', edgecolor='black')\n",
    "# We can now plot our ``GeoDataFrame``.\n",
    "gdf.plot(ax=ax, color='red')\n",
    "\n",
    "plt.show()"
   ]
  },
  {
   "cell_type": "code",
   "execution_count": null,
   "id": "2e6d0e37",
   "metadata": {},
   "outputs": [],
   "source": [
    "plt.hist(df_bike[\"start station id\"].unique())"
   ]
  },
  {
   "cell_type": "code",
   "execution_count": null,
   "id": "d4108bbc",
   "metadata": {},
   "outputs": [],
   "source": [
    "plt.hist(df_bike[\"start station id\"])\n",
    "print(\"number of unique start-station-id is: \", df_bike[\"start station id\"].unique().shape)"
   ]
  },
  {
   "cell_type": "code",
   "execution_count": null,
   "id": "e1940aad",
   "metadata": {},
   "outputs": [],
   "source": [
    "sns.histplot(df_bike[\"end station id\"].unique())\n",
    "print(\"number of unique end-station-id is: \", df_bike[\"end station id\"].unique().shape)"
   ]
  },
  {
   "cell_type": "code",
   "execution_count": null,
   "id": "65ec45ae",
   "metadata": {},
   "outputs": [],
   "source": [
    "sns.countplot(data=df_bike, x='start station id', order=df_bike[\"start station id\"].value_counts().index)"
   ]
  },
  {
   "cell_type": "code",
   "execution_count": null,
   "id": "9a52e977",
   "metadata": {},
   "outputs": [],
   "source": [
    "sns.displot(data=df_bike, x=\"age\", hue='usertype', multiple='stack', aspect=10/5); "
   ]
  },
  {
   "cell_type": "code",
   "execution_count": null,
   "id": "58f65849",
   "metadata": {},
   "outputs": [],
   "source": [
    "plt.boxplot(df_bike['duration_mins'])\n",
    "print(df_bike['duration_mins'].describe())"
   ]
  },
  {
   "cell_type": "markdown",
   "id": "657dba2d",
   "metadata": {},
   "source": [
    "### correlaton b/w unknown-gender-category vs absurd-DOB"
   ]
  },
  {
   "cell_type": "code",
   "execution_count": null,
   "id": "b07daed3",
   "metadata": {},
   "outputs": [],
   "source": [
    "df_bike['gender'] = df_bike.gender.astype('category')\n",
    "plt.scatter(df_bike['birth year'], df_bike['gender'])"
   ]
  },
  {
   "cell_type": "code",
   "execution_count": null,
   "id": "60d47ece",
   "metadata": {},
   "outputs": [],
   "source": [
    "df[df_bike['usertype']=='Customer']"
   ]
  },
  {
   "cell_type": "code",
   "execution_count": null,
   "id": "a21e878f",
   "metadata": {
    "scrolled": true
   },
   "outputs": [],
   "source": [
    "#df_bike[df_bike['usertype']==\"Customer\"].groupby(\"weekday\")[\"usertype\"].count().plot(ax=ax, label='Customer', marker='o',legend=True)\n",
    "\n",
    "sns.histplot(df[df_bike['usertype']=='Customer']['tripduration'])"
   ]
  },
  {
   "cell_type": "code",
   "execution_count": null,
   "id": "70215c4b",
   "metadata": {},
   "outputs": [],
   "source": [
    "n_bins=30\n",
    "plt.hist(df_bike['age'], n_bins, density=1, histtype='bar', stacked=False, label=df_bike['gender'])\n",
    "plt.legend(loc=\"upper left\")\n",
    "plt.title('Stacked-histogram ')\n",
    "plt.show()"
   ]
  },
  {
   "cell_type": "code",
   "execution_count": null,
   "id": "74ea9776",
   "metadata": {},
   "outputs": [],
   "source": [
    "df_bike['start station name'] = df_bike[\"start station name\"].astype('category')\n",
    "df_bike[\"start station name\"].value_counts().sort_values()[:30].plot(kind='bar')\n",
    "\n",
    "\n",
    "#top10 = month_jan[feature_cols].sum().sort_values(ascending=0).head(10)\n",
    "#top10.plot(kind='bar')"
   ]
  },
  {
   "cell_type": "code",
   "execution_count": null,
   "id": "59e6133d",
   "metadata": {},
   "outputs": [],
   "source": [
    "df_bike.groupby('start station name')['usertype'].filter(lambda x: len(x)>5700)\n"
   ]
  },
  {
   "cell_type": "code",
   "execution_count": null,
   "id": "7c803221",
   "metadata": {},
   "outputs": [],
   "source": [
    "df_bike['start station name'].value_counts() > 5000"
   ]
  },
  {
   "cell_type": "markdown",
   "id": "04173c39",
   "metadata": {},
   "source": [
    "## Modelling"
   ]
  },
  {
   "cell_type": "markdown",
   "id": "3f8b9ecc",
   "metadata": {},
   "source": [
    "### Splitting of train / val / test dataset"
   ]
  },
  {
   "cell_type": "code",
   "execution_count": null,
   "id": "25b3eeea",
   "metadata": {},
   "outputs": [],
   "source": [
    "def get_class_counts(df, label, count_var):\n",
    "    '''\n",
    "    param df : pandas dataframe\n",
    "    param label : label as string\n",
    "    \n",
    "    Give class counts of the label in df\n",
    "    \n",
    "    Eg: df = pd.DataFrame({'Team':['Riders', 'Riders', 'Riders', 'Kings','Kings'], \n",
    "                           'year':['2016','2016','2015','2018','2016']})\n",
    "       get_class_counts(df, label='Team', count_var='year') will give you:\n",
    "       {'Kings': 2, 'Riders': 3}  \n",
    "    '''\n",
    "    grp = df.groupby([label])[count_var].count()\n",
    "    return {key: grp[key] for key in list(grp.keys())}\n",
    "\n",
    "\n",
    "def get_class_proportions(df, label, count_var):\n",
    "    '''\n",
    "    param df: pandas dataframe\n",
    "    param label : label as string\n",
    "    \n",
    "    Give proportion of the label class in df dataset. \n",
    "    \n",
    "    Eg: df = pd.DataFrame({'Team':['Riders', 'Riders', 'Riders', 'Kings','Kings'], \n",
    "                           'year':['2016','2016','2015','2018','2016']})\n",
    "        get_class_proportions(df, label='Team', count_var='year') will give you:\n",
    "        {'Kings': 0.4, 'Riders': 0.6}\n",
    "    '''\n",
    "    class_counts = get_class_counts(df, label, count_var)\n",
    "    return {val[0]: round(val[1]/df.shape[0],4) for val in class_counts.items()}"
   ]
  },
  {
   "cell_type": "code",
   "execution_count": null,
   "id": "e0a85ea5",
   "metadata": {},
   "outputs": [],
   "source": [
    "from sklearn.model_selection import train_test_split\n",
    "\n",
    "def data_split(dataset, label, count_var, train_frac, random_state=123):\n",
    "    ''' \n",
    "    param dataset  : Data to be split\n",
    "    param label    : label as string\n",
    "    param train_frac: Ratio of train set to whole dataset\n",
    "\n",
    "    Randomly split dataset, based on these ratios:\n",
    "        'train': train_frac\n",
    "        'valid': (1-train_frac) / 2\n",
    "        'test':  (1-train_frac) / 2\n",
    "\n",
    "    Eg: passing train_frac=0.8 gives a 80% / 10% / 10% split\n",
    "    '''\n",
    "\n",
    "    assert train_frac >= 0 and train_frac <= 1, \"Invalid training set fraction\"\n",
    "\n",
    "    train, tmp = train_test_split(dataset, train_size=train_frac, random_state=random_state, \n",
    "                                  stratify=dataset[label])\n",
    "    val, test  = train_test_split(tmp, train_size=0.5,random_state=random_state, \n",
    "                                  stratify=tmp[label])\n",
    "    \n",
    "    print(f\"Class proportion: \\n in train: {get_class_proportions(train, label, count_var)} \\n in val: {get_class_proportions(val, label, count_var)} \\n in test: {get_class_proportions(test, label, count_var)}\")\n",
    "    return train, val, test"
   ]
  },
  {
   "cell_type": "code",
   "execution_count": null,
   "id": "31c64a1f",
   "metadata": {},
   "outputs": [],
   "source": [
    "train, val, test = data_split(df_bike, label='usertype', count_var='gender',train_frac=0.8)"
   ]
  },
  {
   "cell_type": "markdown",
   "id": "db735cff",
   "metadata": {},
   "source": [
    "# Accident dataset"
   ]
  },
  {
   "cell_type": "markdown",
   "id": "af177602",
   "metadata": {},
   "source": [
    "## Upload Dataset"
   ]
  },
  {
   "cell_type": "code",
   "execution_count": null,
   "id": "c1a71b38",
   "metadata": {},
   "outputs": [],
   "source": [
    "df_ins = pd.read_csv(os.path.join(path_dataset, os.listdir(path_dataset)[0]))\n",
    "print(f\"shape of insurance dataset is {df_ins.shape}\")\n",
    "df_ins.head()"
   ]
  },
  {
   "cell_type": "markdown",
   "id": "5c00e0bf",
   "metadata": {},
   "source": [
    "## Insight into data"
   ]
  },
  {
   "cell_type": "code",
   "execution_count": null,
   "id": "ae83761e",
   "metadata": {
    "scrolled": false
   },
   "outputs": [],
   "source": [
    "draw_stats(df_ins, n_rows=11, n_cols=2)"
   ]
  },
  {
   "cell_type": "code",
   "execution_count": null,
   "id": "913a52ae",
   "metadata": {},
   "outputs": [],
   "source": [
    "df_ins.describe()"
   ]
  },
  {
   "cell_type": "code",
   "execution_count": null,
   "id": "c2dcd4da",
   "metadata": {},
   "outputs": [],
   "source": [
    "df_ins.isnull().sum()"
   ]
  },
  {
   "cell_type": "markdown",
   "id": "c3885d63",
   "metadata": {},
   "source": [
    "## Feature Enginurring"
   ]
  },
  {
   "cell_type": "code",
   "execution_count": null,
   "id": "3d5e9270",
   "metadata": {},
   "outputs": [],
   "source": [
    "list_for_boxplot=[\"NUMBER OF MOTORIST INJURED\", \"NUMBER OF MOTORIST KILLED\", \"NUMBER OF PERSONS INJURED\", \n",
    "                  \"NUMBER OF PERSONS KILLED\", \"NUMBER OF PEDESTRIANS INJURED\",\"NUMBER OF PEDESTRIANS KILLED\"]\n",
    "sns.boxplot(x='variable', y='value', data=pd.melt(df_ins[list_for_boxplot]))"
   ]
  },
  {
   "cell_type": "code",
   "execution_count": null,
   "id": "78f17997",
   "metadata": {},
   "outputs": [],
   "source": [
    "df_ins['BOROUGH'] = df_ins.BOROUGH.astype('category')\n",
    "df_ins[\"BOROUGH\"].value_counts().plot(kind='bar')"
   ]
  }
 ],
 "metadata": {
  "kernelspec": {
   "display_name": "Python@3.8",
   "language": "python",
   "name": "python3.8"
  },
  "language_info": {
   "codemirror_mode": {
    "name": "ipython",
    "version": 3
   },
   "file_extension": ".py",
   "mimetype": "text/x-python",
   "name": "python",
   "nbconvert_exporter": "python",
   "pygments_lexer": "ipython3",
   "version": "3.8.12"
  },
  "toc": {
   "base_numbering": 1,
   "nav_menu": {},
   "number_sections": true,
   "sideBar": true,
   "skip_h1_title": false,
   "title_cell": "Table of Contents",
   "title_sidebar": "Contents",
   "toc_cell": false,
   "toc_position": {
    "height": "calc(100% - 180px)",
    "left": "10px",
    "top": "150px",
    "width": "395.1875px"
   },
   "toc_section_display": true,
   "toc_window_display": true
  }
 },
 "nbformat": 4,
 "nbformat_minor": 5
}
