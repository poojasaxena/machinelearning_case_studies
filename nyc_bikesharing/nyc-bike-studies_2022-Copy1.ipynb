{
 "cells": [
  {
   "cell_type": "code",
   "execution_count": null,
   "id": "61b1b4bc",
   "metadata": {},
   "outputs": [],
   "source": [
    "%load_ext autoreload\n",
    "%autoreload 2\n",
    "%autosave 60"
   ]
  },
  {
   "cell_type": "markdown",
   "id": "ebf8e7fd",
   "metadata": {},
   "source": [
    "# NYC dataset"
   ]
  },
  {
   "cell_type": "markdown",
   "id": "9530e230",
   "metadata": {},
   "source": [
    "# Basics"
   ]
  },
  {
   "cell_type": "markdown",
   "id": "7eaa5470",
   "metadata": {},
   "source": [
    "## Import Libraries"
   ]
  },
  {
   "cell_type": "code",
   "execution_count": 1,
   "id": "1a66c660",
   "metadata": {},
   "outputs": [],
   "source": [
    "import os\n",
    "import sys\n",
    "import numpy as np\n",
    "import pandas as pd\n",
    "import seaborn as sns\n",
    "import matplotlib.pyplot as plt\n",
    "from datetime import datetime, date\n",
    "from pandas_profiling import ProfileReport\n",
    "from pprint import pprint\n",
    "\n",
    "\n",
    "## For geomap purpose\n",
    "import folium\n",
    "\n",
    "## For checking missing values\n",
    "import missingno as msno\n",
    "\n",
    "## For test/train splititng\n",
    "from sklearn.model_selection import train_test_split\n",
    "pd.options.mode.chained_assignment = None  # default='warn'\n",
    "\n",
    "## local helper class\n",
    "from helper_class import *\n",
    "%matplotlib inline"
   ]
  },
  {
   "cell_type": "code",
   "execution_count": 2,
   "id": "29f2d5a8",
   "metadata": {},
   "outputs": [],
   "source": [
    "#! python3 -m pip install --user dtreeviz"
   ]
  },
  {
   "cell_type": "markdown",
   "id": "e0463a3f",
   "metadata": {},
   "source": [
    "## upload dataset"
   ]
  },
  {
   "cell_type": "code",
   "execution_count": 3,
   "id": "f21ddbc0",
   "metadata": {},
   "outputs": [],
   "source": [
    "def get_dataset(local_dir_name):\n",
    "    '''\n",
    "    param local_dir_name: name of the directory to which the dataset belongs to\n",
    "\n",
    "    assume that variable 'DirForLocalDataset' is set systemwide\n",
    "    Returns pandas dataframe\n",
    "    '''\n",
    "    path_dataset = os.getenv(\"DirForLocalDataset\") + '/'+ local_dir_name\n",
    "    print(\"following dataset is available:\",os.listdir(path_dataset) )\n",
    "    df = pd.read_csv(os.path.join(path_dataset, os.listdir(path_dataset)[1]))\n",
    "    return df"
   ]
  },
  {
   "cell_type": "code",
   "execution_count": 4,
   "id": "787fc49f",
   "metadata": {},
   "outputs": [
    {
     "data": {
      "text/html": [
       "<div>\n",
       "<style scoped>\n",
       "    .dataframe tbody tr th:only-of-type {\n",
       "        vertical-align: middle;\n",
       "    }\n",
       "\n",
       "    .dataframe tbody tr th {\n",
       "        vertical-align: top;\n",
       "    }\n",
       "\n",
       "    .dataframe thead th {\n",
       "        text-align: right;\n",
       "    }\n",
       "</style>\n",
       "<table border=\"1\" class=\"dataframe\">\n",
       "  <thead>\n",
       "    <tr style=\"text-align: right;\">\n",
       "      <th></th>\n",
       "      <th>tripduration</th>\n",
       "      <th>starttime</th>\n",
       "      <th>stoptime</th>\n",
       "      <th>start station id</th>\n",
       "      <th>start station name</th>\n",
       "      <th>start station latitude</th>\n",
       "      <th>start station longitude</th>\n",
       "      <th>end station id</th>\n",
       "      <th>end station name</th>\n",
       "      <th>end station latitude</th>\n",
       "      <th>end station longitude</th>\n",
       "      <th>bikeid</th>\n",
       "      <th>usertype</th>\n",
       "      <th>birth year</th>\n",
       "      <th>gender</th>\n",
       "    </tr>\n",
       "  </thead>\n",
       "  <tbody>\n",
       "    <tr>\n",
       "      <th>0</th>\n",
       "      <td>569</td>\n",
       "      <td>2018-06-01 01:57:20.5140</td>\n",
       "      <td>2018-06-01 02:06:50.0880</td>\n",
       "      <td>72</td>\n",
       "      <td>W 52 St &amp; 11 Ave</td>\n",
       "      <td>40.767272</td>\n",
       "      <td>-73.993929</td>\n",
       "      <td>173</td>\n",
       "      <td>Broadway &amp; W 49 St</td>\n",
       "      <td>40.760683</td>\n",
       "      <td>-73.984527</td>\n",
       "      <td>21481</td>\n",
       "      <td>Subscriber</td>\n",
       "      <td>1999</td>\n",
       "      <td>1</td>\n",
       "    </tr>\n",
       "    <tr>\n",
       "      <th>1</th>\n",
       "      <td>480</td>\n",
       "      <td>2018-06-01 02:02:42.3980</td>\n",
       "      <td>2018-06-01 02:10:43.3540</td>\n",
       "      <td>72</td>\n",
       "      <td>W 52 St &amp; 11 Ave</td>\n",
       "      <td>40.767272</td>\n",
       "      <td>-73.993929</td>\n",
       "      <td>477</td>\n",
       "      <td>W 41 St &amp; 8 Ave</td>\n",
       "      <td>40.756405</td>\n",
       "      <td>-73.990026</td>\n",
       "      <td>19123</td>\n",
       "      <td>Subscriber</td>\n",
       "      <td>1988</td>\n",
       "      <td>1</td>\n",
       "    </tr>\n",
       "  </tbody>\n",
       "</table>\n",
       "</div>"
      ],
      "text/plain": [
       "   tripduration                 starttime                  stoptime  \\\n",
       "0           569  2018-06-01 01:57:20.5140  2018-06-01 02:06:50.0880   \n",
       "1           480  2018-06-01 02:02:42.3980  2018-06-01 02:10:43.3540   \n",
       "\n",
       "   start station id start station name  start station latitude  \\\n",
       "0                72   W 52 St & 11 Ave               40.767272   \n",
       "1                72   W 52 St & 11 Ave               40.767272   \n",
       "\n",
       "   start station longitude  end station id    end station name  \\\n",
       "0               -73.993929             173  Broadway & W 49 St   \n",
       "1               -73.993929             477     W 41 St & 8 Ave   \n",
       "\n",
       "   end station latitude  end station longitude  bikeid    usertype  \\\n",
       "0             40.760683             -73.984527   21481  Subscriber   \n",
       "1             40.756405             -73.990026   19123  Subscriber   \n",
       "\n",
       "   birth year  gender  \n",
       "0        1999       1  \n",
       "1        1988       1  "
      ]
     },
     "execution_count": 4,
     "metadata": {},
     "output_type": "execute_result"
    }
   ],
   "source": [
    "path_dataset = os.getenv(\"DirForLocalDataset\") + '/'+ 'axa_dataset'\n",
    "df_bike = pd.read_csv(os.path.join(path_dataset, os.listdir(path_dataset)[3]))\n",
    "df_bike.head(2)"
   ]
  },
  {
   "cell_type": "markdown",
   "id": "2729e1dc",
   "metadata": {},
   "source": [
    "# insight into data"
   ]
  },
  {
   "cell_type": "code",
   "execution_count": 5,
   "id": "b9c3937c",
   "metadata": {},
   "outputs": [
    {
     "name": "stdout",
     "output_type": "stream",
     "text": [
      "Shape of dataset is (1953103, 15)\n",
      "tripduration                 int64\n",
      "starttime                   object\n",
      "stoptime                    object\n",
      "start station id             int64\n",
      "start station name          object\n",
      "start station latitude     float64\n",
      "start station longitude    float64\n",
      "end station id               int64\n",
      "end station name            object\n",
      "end station latitude       float64\n",
      "end station longitude      float64\n",
      "bikeid                       int64\n",
      "usertype                    object\n",
      "birth year                   int64\n",
      "gender                       int64\n",
      "dtype: object\n"
     ]
    }
   ],
   "source": [
    "print(f\"Shape of dataset is {df_bike.shape}\")\n",
    "print(df_bike.dtypes)"
   ]
  },
  {
   "cell_type": "code",
   "execution_count": 6,
   "id": "75b3c830",
   "metadata": {},
   "outputs": [
    {
     "data": {
      "text/html": [
       "<div>\n",
       "<style scoped>\n",
       "    .dataframe tbody tr th:only-of-type {\n",
       "        vertical-align: middle;\n",
       "    }\n",
       "\n",
       "    .dataframe tbody tr th {\n",
       "        vertical-align: top;\n",
       "    }\n",
       "\n",
       "    .dataframe thead th {\n",
       "        text-align: right;\n",
       "    }\n",
       "</style>\n",
       "<table border=\"1\" class=\"dataframe\">\n",
       "  <thead>\n",
       "    <tr style=\"text-align: right;\">\n",
       "      <th></th>\n",
       "      <th>tripduration</th>\n",
       "      <th>start station id</th>\n",
       "      <th>start station latitude</th>\n",
       "      <th>start station longitude</th>\n",
       "      <th>end station id</th>\n",
       "      <th>end station latitude</th>\n",
       "      <th>end station longitude</th>\n",
       "      <th>bikeid</th>\n",
       "      <th>birth year</th>\n",
       "      <th>gender</th>\n",
       "    </tr>\n",
       "  </thead>\n",
       "  <tbody>\n",
       "    <tr>\n",
       "      <th>count</th>\n",
       "      <td>1.953103e+06</td>\n",
       "      <td>1.953103e+06</td>\n",
       "      <td>1.953103e+06</td>\n",
       "      <td>1.953103e+06</td>\n",
       "      <td>1.953103e+06</td>\n",
       "      <td>1.953103e+06</td>\n",
       "      <td>1.953103e+06</td>\n",
       "      <td>1.953103e+06</td>\n",
       "      <td>1.953103e+06</td>\n",
       "      <td>1.953103e+06</td>\n",
       "    </tr>\n",
       "    <tr>\n",
       "      <th>mean</th>\n",
       "      <td>1.211320e+03</td>\n",
       "      <td>1.587847e+03</td>\n",
       "      <td>4.073682e+01</td>\n",
       "      <td>-7.398272e+01</td>\n",
       "      <td>1.580168e+03</td>\n",
       "      <td>4.073646e+01</td>\n",
       "      <td>-7.398288e+01</td>\n",
       "      <td>2.599782e+04</td>\n",
       "      <td>1.978870e+03</td>\n",
       "      <td>1.137163e+00</td>\n",
       "    </tr>\n",
       "    <tr>\n",
       "      <th>std</th>\n",
       "      <td>2.559797e+04</td>\n",
       "      <td>1.437212e+03</td>\n",
       "      <td>3.328542e-02</td>\n",
       "      <td>1.950168e-02</td>\n",
       "      <td>1.436349e+03</td>\n",
       "      <td>3.313123e-02</td>\n",
       "      <td>1.956221e-02</td>\n",
       "      <td>5.846984e+03</td>\n",
       "      <td>1.175118e+01</td>\n",
       "      <td>5.699493e-01</td>\n",
       "    </tr>\n",
       "    <tr>\n",
       "      <th>min</th>\n",
       "      <td>6.100000e+01</td>\n",
       "      <td>7.200000e+01</td>\n",
       "      <td>4.065540e+01</td>\n",
       "      <td>-7.402535e+01</td>\n",
       "      <td>7.200000e+01</td>\n",
       "      <td>4.065540e+01</td>\n",
       "      <td>-7.405570e+01</td>\n",
       "      <td>1.452900e+04</td>\n",
       "      <td>1.885000e+03</td>\n",
       "      <td>0.000000e+00</td>\n",
       "    </tr>\n",
       "    <tr>\n",
       "      <th>25%</th>\n",
       "      <td>3.860000e+02</td>\n",
       "      <td>3.790000e+02</td>\n",
       "      <td>4.071689e+01</td>\n",
       "      <td>-7.399599e+01</td>\n",
       "      <td>3.790000e+02</td>\n",
       "      <td>4.071644e+01</td>\n",
       "      <td>-7.399612e+01</td>\n",
       "      <td>2.020500e+04</td>\n",
       "      <td>1.969000e+03</td>\n",
       "      <td>1.000000e+00</td>\n",
       "    </tr>\n",
       "    <tr>\n",
       "      <th>50%</th>\n",
       "      <td>6.600000e+02</td>\n",
       "      <td>5.040000e+02</td>\n",
       "      <td>4.073705e+01</td>\n",
       "      <td>-7.398602e+01</td>\n",
       "      <td>5.030000e+02</td>\n",
       "      <td>4.073705e+01</td>\n",
       "      <td>-7.398658e+01</td>\n",
       "      <td>2.766200e+04</td>\n",
       "      <td>1.981000e+03</td>\n",
       "      <td>1.000000e+00</td>\n",
       "    </tr>\n",
       "    <tr>\n",
       "      <th>75%</th>\n",
       "      <td>1.157000e+03</td>\n",
       "      <td>3.236000e+03</td>\n",
       "      <td>4.075763e+01</td>\n",
       "      <td>-7.397189e+01</td>\n",
       "      <td>3.236000e+03</td>\n",
       "      <td>4.075725e+01</td>\n",
       "      <td>-7.397210e+01</td>\n",
       "      <td>3.100700e+04</td>\n",
       "      <td>1.989000e+03</td>\n",
       "      <td>1.000000e+00</td>\n",
       "    </tr>\n",
       "    <tr>\n",
       "      <th>max</th>\n",
       "      <td>7.571338e+06</td>\n",
       "      <td>3.692000e+03</td>\n",
       "      <td>4.550636e+01</td>\n",
       "      <td>-7.356891e+01</td>\n",
       "      <td>3.692000e+03</td>\n",
       "      <td>4.550636e+01</td>\n",
       "      <td>-7.356891e+01</td>\n",
       "      <td>3.369900e+04</td>\n",
       "      <td>2.002000e+03</td>\n",
       "      <td>2.000000e+00</td>\n",
       "    </tr>\n",
       "  </tbody>\n",
       "</table>\n",
       "</div>"
      ],
      "text/plain": [
       "       tripduration  start station id  start station latitude  \\\n",
       "count  1.953103e+06      1.953103e+06            1.953103e+06   \n",
       "mean   1.211320e+03      1.587847e+03            4.073682e+01   \n",
       "std    2.559797e+04      1.437212e+03            3.328542e-02   \n",
       "min    6.100000e+01      7.200000e+01            4.065540e+01   \n",
       "25%    3.860000e+02      3.790000e+02            4.071689e+01   \n",
       "50%    6.600000e+02      5.040000e+02            4.073705e+01   \n",
       "75%    1.157000e+03      3.236000e+03            4.075763e+01   \n",
       "max    7.571338e+06      3.692000e+03            4.550636e+01   \n",
       "\n",
       "       start station longitude  end station id  end station latitude  \\\n",
       "count             1.953103e+06    1.953103e+06          1.953103e+06   \n",
       "mean             -7.398272e+01    1.580168e+03          4.073646e+01   \n",
       "std               1.950168e-02    1.436349e+03          3.313123e-02   \n",
       "min              -7.402535e+01    7.200000e+01          4.065540e+01   \n",
       "25%              -7.399599e+01    3.790000e+02          4.071644e+01   \n",
       "50%              -7.398602e+01    5.030000e+02          4.073705e+01   \n",
       "75%              -7.397189e+01    3.236000e+03          4.075725e+01   \n",
       "max              -7.356891e+01    3.692000e+03          4.550636e+01   \n",
       "\n",
       "       end station longitude        bikeid    birth year        gender  \n",
       "count           1.953103e+06  1.953103e+06  1.953103e+06  1.953103e+06  \n",
       "mean           -7.398288e+01  2.599782e+04  1.978870e+03  1.137163e+00  \n",
       "std             1.956221e-02  5.846984e+03  1.175118e+01  5.699493e-01  \n",
       "min            -7.405570e+01  1.452900e+04  1.885000e+03  0.000000e+00  \n",
       "25%            -7.399612e+01  2.020500e+04  1.969000e+03  1.000000e+00  \n",
       "50%            -7.398658e+01  2.766200e+04  1.981000e+03  1.000000e+00  \n",
       "75%            -7.397210e+01  3.100700e+04  1.989000e+03  1.000000e+00  \n",
       "max            -7.356891e+01  3.369900e+04  2.002000e+03  2.000000e+00  "
      ]
     },
     "execution_count": 6,
     "metadata": {},
     "output_type": "execute_result"
    }
   ],
   "source": [
    "df_bike.describe()"
   ]
  },
  {
   "cell_type": "code",
   "execution_count": 7,
   "id": "da35125e",
   "metadata": {},
   "outputs": [
    {
     "data": {
      "text/plain": [
       "tripduration               0.0\n",
       "starttime                  0.0\n",
       "stoptime                   0.0\n",
       "start station id           0.0\n",
       "start station name         0.0\n",
       "start station latitude     0.0\n",
       "start station longitude    0.0\n",
       "end station id             0.0\n",
       "end station name           0.0\n",
       "end station latitude       0.0\n",
       "end station longitude      0.0\n",
       "bikeid                     0.0\n",
       "usertype                   0.0\n",
       "birth year                 0.0\n",
       "gender                     0.0\n",
       "dtype: float64"
      ]
     },
     "execution_count": 7,
     "metadata": {},
     "output_type": "execute_result"
    }
   ],
   "source": [
    "df_bike.isnull().sum() * 100 / len(df_bike)"
   ]
  },
  {
   "cell_type": "markdown",
   "id": "066c4a54",
   "metadata": {},
   "source": [
    "## Profiling"
   ]
  },
  {
   "cell_type": "code",
   "execution_count": 8,
   "id": "98cd78c5",
   "metadata": {},
   "outputs": [],
   "source": [
    "profile = ProfileReport(df_bike, title=\"Pandas Profiling Report\")\n",
    "#profile"
   ]
  },
  {
   "cell_type": "markdown",
   "id": "a143c92c",
   "metadata": {},
   "source": [
    "## Quick Statistics"
   ]
  },
  {
   "cell_type": "code",
   "execution_count": 9,
   "id": "00a2f084",
   "metadata": {
    "scrolled": true
   },
   "outputs": [
    {
     "data": {
      "image/png": "[encoded data removed]",
      "text/plain": [
       "<Figure size 1440x1800 with 20 Axes>"
      ]
     },
     "metadata": {
      "needs_background": "light"
     },
     "output_type": "display_data"
    }
   ],
   "source": [
    "draw_stats(df_bike)"
   ]
  },
  {
   "cell_type": "markdown",
   "id": "c17cac72",
   "metadata": {},
   "source": [
    "Observations:\n",
    "1. few D.O.B are dated 1900, ie. 118 years old.\n",
    "2. trip durations got maximum of around 4e6, i.e. 46 days"
   ]
  },
  {
   "cell_type": "markdown",
   "id": "5938930f",
   "metadata": {},
   "source": [
    "## Check coorrelation"
   ]
  },
  {
   "cell_type": "code",
   "execution_count": 10,
   "id": "2159a400",
   "metadata": {},
   "outputs": [
    {
     "data": {
      "image/png": "[encoded data removed]",
      "text/plain": [
       "<Figure size 432x288 with 2 Axes>"
      ]
     },
     "metadata": {
      "needs_background": "light"
     },
     "output_type": "display_data"
    }
   ],
   "source": [
    "corr = df_bike.corr()\n",
    "sns.heatmap(corr, \n",
    "        xticklabels=corr.columns,\n",
    "        yticklabels=corr.columns)\n",
    "\n",
    "plt.savefig('heatmap_coorelation_plot.png')"
   ]
  },
  {
   "cell_type": "markdown",
   "id": "a816ee0d",
   "metadata": {},
   "source": [
    "# Preprocessing\n",
    "1. lets first take care of the 2 variable, tripduration and D.O.B cases."
   ]
  },
  {
   "cell_type": "markdown",
   "id": "3366bd31",
   "metadata": {},
   "source": [
    "## Tripduration"
   ]
  },
  {
   "cell_type": "markdown",
   "id": "32154376",
   "metadata": {},
   "source": [
    "### Tripduration in min/hrs"
   ]
  },
  {
   "cell_type": "code",
   "execution_count": 11,
   "id": "11847457",
   "metadata": {},
   "outputs": [],
   "source": [
    "df_bike['duration_mins'] = df_bike['tripduration']/60\n",
    "df_bike['duration_hr']   = df_bike['tripduration']/(60*60)"
   ]
  },
  {
   "cell_type": "code",
   "execution_count": 12,
   "id": "d543a2b2",
   "metadata": {},
   "outputs": [
    {
     "name": "stdout",
     "output_type": "stream",
     "text": [
      "count    1.953103e+06\n",
      "mean     3.364777e-01\n",
      "std      7.110546e+00\n",
      "min      1.694444e-02\n",
      "25%      1.072222e-01\n",
      "50%      1.833333e-01\n",
      "75%      3.213889e-01\n",
      "max      2.103149e+03\n",
      "Name: duration_hr, dtype: float64\n"
     ]
    }
   ],
   "source": [
    "print(df_bike['duration_hr'].describe())"
   ]
  },
  {
   "cell_type": "markdown",
   "id": "f4271751",
   "metadata": {},
   "source": [
    "### Tripduration in hr\n",
    "1. The maximum is 2013 hrs, that's around 83 days.\n",
    "2. Another important aspect is that there are 25% value between (0.32, 2013) hrs, in which, thankfully, the lower bound still is quite reasonable.\n",
    "3. my understanding says 24 hr, ie. whole day, is quite an extreme value for renting bike."
   ]
  },
  {
   "cell_type": "code",
   "execution_count": 13,
   "id": "e0cca655",
   "metadata": {},
   "outputs": [
    {
     "name": "stdout",
     "output_type": "stream",
     "text": [
      "count is: 837\n"
     ]
    }
   ],
   "source": [
    "print(\"count is:\", df_bike['duration_hr'][df_bike['duration_hr']>24].count())"
   ]
  },
  {
   "cell_type": "code",
   "execution_count": 14,
   "id": "0cef8229",
   "metadata": {},
   "outputs": [],
   "source": [
    "#sns.histplot(x=df_bike['duration_hr'][df_bike['duration_hr']>24], log_scale=True)\n",
    "#plt.title(\"Distribution of duration (hr) > 24 hr\")\n",
    "#plt.xlabel(\"Duration (hr) (log scale)\")\n",
    "#plt.ylabel('Count')"
   ]
  },
  {
   "cell_type": "markdown",
   "id": "322d01af",
   "metadata": {},
   "source": [
    "### Lets drop ca 800 evens of tripduration(hr) > 24"
   ]
  },
  {
   "cell_type": "code",
   "execution_count": 15,
   "id": "1754b2e9",
   "metadata": {},
   "outputs": [
    {
     "name": "stdout",
     "output_type": "stream",
     "text": [
      "shape of original: (1953103, 17), after filtering dataset: (1952266, 17)\n"
     ]
    }
   ],
   "source": [
    "print(f\"shape of original: {df_bike.shape}, after filtering dataset: {df_bike[df_bike['duration_hr'] < 24].shape}\")\n",
    "df_bike = df_bike[df_bike['duration_hr'] < 24]"
   ]
  },
  {
   "cell_type": "code",
   "execution_count": 16,
   "id": "acda5718",
   "metadata": {},
   "outputs": [
    {
     "data": {
      "text/plain": [
       "tripduration               0\n",
       "starttime                  0\n",
       "stoptime                   0\n",
       "start station id           0\n",
       "start station name         0\n",
       "start station latitude     0\n",
       "start station longitude    0\n",
       "end station id             0\n",
       "end station name           0\n",
       "end station latitude       0\n",
       "end station longitude      0\n",
       "bikeid                     0\n",
       "usertype                   0\n",
       "birth year                 0\n",
       "gender                     0\n",
       "duration_mins              0\n",
       "duration_hr                0\n",
       "dtype: int64"
      ]
     },
     "execution_count": 16,
     "metadata": {},
     "output_type": "execute_result"
    }
   ],
   "source": [
    "df_bike.isna().sum()"
   ]
  },
  {
   "cell_type": "markdown",
   "id": "78c171e8",
   "metadata": {},
   "source": [
    "## Users"
   ]
  },
  {
   "cell_type": "markdown",
   "id": "3642fc96",
   "metadata": {},
   "source": [
    "### Calculate age of the users"
   ]
  },
  {
   "cell_type": "code",
   "execution_count": 17,
   "id": "313644c5",
   "metadata": {},
   "outputs": [
    {
     "name": "stdout",
     "output_type": "stream",
     "text": [
      "shape of such events: (2179,)\n"
     ]
    },
    {
     "data": {
      "text/plain": [
       "Text(0, 0.5, 'Count')"
      ]
     },
     "execution_count": 17,
     "metadata": {},
     "output_type": "execute_result"
    },
    {
     "data": {
      "image/png": "[encoded data removed]",
      "text/plain": [
       "<Figure size 432x288 with 1 Axes>"
      ]
     },
     "metadata": {
      "needs_background": "light"
     },
     "output_type": "display_data"
    }
   ],
   "source": [
    "print('shape of such events:', df_bike['birth year'][df_bike['birth year'] < 1938].shape)\n",
    "sns.histplot(x=df_bike['birth year'][df_bike['birth year'] < 1938])\n",
    "plt.title(\"Distribution of D.O.B (given: < 1938)\")\n",
    "plt.xlabel(\"Birth year\")\n",
    "plt.ylabel('Count')"
   ]
  },
  {
   "cell_type": "code",
   "execution_count": 18,
   "id": "34fe8139",
   "metadata": {},
   "outputs": [
    {
     "data": {
      "text/html": [
       "<div>\n",
       "<style scoped>\n",
       "    .dataframe tbody tr th:only-of-type {\n",
       "        vertical-align: middle;\n",
       "    }\n",
       "\n",
       "    .dataframe tbody tr th {\n",
       "        vertical-align: top;\n",
       "    }\n",
       "\n",
       "    .dataframe thead th {\n",
       "        text-align: right;\n",
       "    }\n",
       "</style>\n",
       "<table border=\"1\" class=\"dataframe\">\n",
       "  <thead>\n",
       "    <tr style=\"text-align: right;\">\n",
       "      <th></th>\n",
       "      <th>tripduration</th>\n",
       "      <th>starttime</th>\n",
       "      <th>stoptime</th>\n",
       "      <th>start station id</th>\n",
       "      <th>start station name</th>\n",
       "      <th>start station latitude</th>\n",
       "      <th>start station longitude</th>\n",
       "      <th>end station id</th>\n",
       "      <th>end station name</th>\n",
       "      <th>end station latitude</th>\n",
       "      <th>end station longitude</th>\n",
       "      <th>bikeid</th>\n",
       "      <th>usertype</th>\n",
       "      <th>birth year</th>\n",
       "      <th>gender</th>\n",
       "      <th>duration_mins</th>\n",
       "      <th>duration_hr</th>\n",
       "      <th>age</th>\n",
       "    </tr>\n",
       "  </thead>\n",
       "  <tbody>\n",
       "    <tr>\n",
       "      <th>0</th>\n",
       "      <td>569</td>\n",
       "      <td>2018-06-01 01:57:20.5140</td>\n",
       "      <td>2018-06-01 02:06:50.0880</td>\n",
       "      <td>72</td>\n",
       "      <td>W 52 St &amp; 11 Ave</td>\n",
       "      <td>40.767272</td>\n",
       "      <td>-73.993929</td>\n",
       "      <td>173</td>\n",
       "      <td>Broadway &amp; W 49 St</td>\n",
       "      <td>40.760683</td>\n",
       "      <td>-73.984527</td>\n",
       "      <td>21481</td>\n",
       "      <td>Subscriber</td>\n",
       "      <td>1999</td>\n",
       "      <td>1</td>\n",
       "      <td>9.483333</td>\n",
       "      <td>0.158056</td>\n",
       "      <td>19</td>\n",
       "    </tr>\n",
       "    <tr>\n",
       "      <th>1</th>\n",
       "      <td>480</td>\n",
       "      <td>2018-06-01 02:02:42.3980</td>\n",
       "      <td>2018-06-01 02:10:43.3540</td>\n",
       "      <td>72</td>\n",
       "      <td>W 52 St &amp; 11 Ave</td>\n",
       "      <td>40.767272</td>\n",
       "      <td>-73.993929</td>\n",
       "      <td>477</td>\n",
       "      <td>W 41 St &amp; 8 Ave</td>\n",
       "      <td>40.756405</td>\n",
       "      <td>-73.990026</td>\n",
       "      <td>19123</td>\n",
       "      <td>Subscriber</td>\n",
       "      <td>1988</td>\n",
       "      <td>1</td>\n",
       "      <td>8.000000</td>\n",
       "      <td>0.133333</td>\n",
       "      <td>30</td>\n",
       "    </tr>\n",
       "    <tr>\n",
       "      <th>2</th>\n",
       "      <td>692</td>\n",
       "      <td>2018-06-01 02:04:23.6240</td>\n",
       "      <td>2018-06-01 02:15:55.7470</td>\n",
       "      <td>72</td>\n",
       "      <td>W 52 St &amp; 11 Ave</td>\n",
       "      <td>40.767272</td>\n",
       "      <td>-73.993929</td>\n",
       "      <td>457</td>\n",
       "      <td>Broadway &amp; W 58 St</td>\n",
       "      <td>40.766953</td>\n",
       "      <td>-73.981693</td>\n",
       "      <td>26983</td>\n",
       "      <td>Subscriber</td>\n",
       "      <td>1986</td>\n",
       "      <td>1</td>\n",
       "      <td>11.533333</td>\n",
       "      <td>0.192222</td>\n",
       "      <td>32</td>\n",
       "    </tr>\n",
       "  </tbody>\n",
       "</table>\n",
       "</div>"
      ],
      "text/plain": [
       "   tripduration                 starttime                  stoptime  \\\n",
       "0           569  2018-06-01 01:57:20.5140  2018-06-01 02:06:50.0880   \n",
       "1           480  2018-06-01 02:02:42.3980  2018-06-01 02:10:43.3540   \n",
       "2           692  2018-06-01 02:04:23.6240  2018-06-01 02:15:55.7470   \n",
       "\n",
       "   start station id start station name  start station latitude  \\\n",
       "0                72   W 52 St & 11 Ave               40.767272   \n",
       "1                72   W 52 St & 11 Ave               40.767272   \n",
       "2                72   W 52 St & 11 Ave               40.767272   \n",
       "\n",
       "   start station longitude  end station id    end station name  \\\n",
       "0               -73.993929             173  Broadway & W 49 St   \n",
       "1               -73.993929             477     W 41 St & 8 Ave   \n",
       "2               -73.993929             457  Broadway & W 58 St   \n",
       "\n",
       "   end station latitude  end station longitude  bikeid    usertype  \\\n",
       "0             40.760683             -73.984527   21481  Subscriber   \n",
       "1             40.756405             -73.990026   19123  Subscriber   \n",
       "2             40.766953             -73.981693   26983  Subscriber   \n",
       "\n",
       "   birth year  gender  duration_mins  duration_hr  age  \n",
       "0        1999       1       9.483333     0.158056   19  \n",
       "1        1988       1       8.000000     0.133333   30  \n",
       "2        1986       1      11.533333     0.192222   32  "
      ]
     },
     "execution_count": 18,
     "metadata": {},
     "output_type": "execute_result"
    }
   ],
   "source": [
    "df_bike['age'] = (pd.DatetimeIndex(df_bike['starttime']).year - df_bike['birth year'])\n",
    "df_bike.head(3)"
   ]
  },
  {
   "cell_type": "code",
   "execution_count": 19,
   "id": "76627067",
   "metadata": {},
   "outputs": [
    {
     "data": {
      "text/plain": [
       "tripduration               0\n",
       "starttime                  0\n",
       "stoptime                   0\n",
       "start station id           0\n",
       "start station name         0\n",
       "start station latitude     0\n",
       "start station longitude    0\n",
       "end station id             0\n",
       "end station name           0\n",
       "end station latitude       0\n",
       "end station longitude      0\n",
       "bikeid                     0\n",
       "usertype                   0\n",
       "birth year                 0\n",
       "gender                     0\n",
       "duration_mins              0\n",
       "duration_hr                0\n",
       "age                        0\n",
       "dtype: int64"
      ]
     },
     "execution_count": 19,
     "metadata": {},
     "output_type": "execute_result"
    }
   ],
   "source": [
    "df_bike.isna().sum()"
   ]
  },
  {
   "cell_type": "code",
   "execution_count": 20,
   "id": "f3d162d7",
   "metadata": {},
   "outputs": [
    {
     "data": {
      "text/plain": [
       "Text(0.5, 0, 'Age')"
      ]
     },
     "execution_count": 20,
     "metadata": {},
     "output_type": "execute_result"
    },
    {
     "data": {
      "image/png": "[encoded data removed]",
      "text/plain": [
       "<Figure size 432x288 with 1 Axes>"
      ]
     },
     "metadata": {
      "needs_background": "light"
     },
     "output_type": "display_data"
    }
   ],
   "source": [
    "#sns.set_theme(style=\"whitegrid\")\n",
    "sns.boxplot(x=df_bike[\"age\"], width=0.5)\n",
    "plt.xlabel(\"Age\")"
   ]
  },
  {
   "cell_type": "code",
   "execution_count": 21,
   "id": "c00dee12",
   "metadata": {},
   "outputs": [
    {
     "data": {
      "text/plain": [
       "(1950087, 18)"
      ]
     },
     "execution_count": 21,
     "metadata": {},
     "output_type": "execute_result"
    }
   ],
   "source": [
    "#skip = (df_bike.loc[:, ('age')] > 80)\n",
    "df_bike = df_bike[df_bike['age'] <  81]\n",
    "df_bike.shape"
   ]
  },
  {
   "cell_type": "code",
   "execution_count": 22,
   "id": "29527d95",
   "metadata": {},
   "outputs": [
    {
     "data": {
      "text/plain": [
       "Text(0, 0.5, 'Trips')"
      ]
     },
     "execution_count": 22,
     "metadata": {},
     "output_type": "execute_result"
    },
    {
     "data": {
      "image/png": "[encoded data removed]",
      "text/plain": [
       "<Figure size 432x288 with 1 Axes>"
      ]
     },
     "metadata": {
      "needs_background": "light"
     },
     "output_type": "display_data"
    }
   ],
   "source": [
    "plt.hist(df_bike['age'])\n",
    "#plt.title(\"Distribution of Usertype during Weekday\")\n",
    "plt.xlabel(\"Age\")\n",
    "plt.ylabel('Trips')"
   ]
  },
  {
   "cell_type": "markdown",
   "id": "1784ebc6",
   "metadata": {},
   "source": [
    "### Convert gender as string categorical"
   ]
  },
  {
   "cell_type": "code",
   "execution_count": 23,
   "id": "12a77215",
   "metadata": {},
   "outputs": [
    {
     "data": {
      "text/plain": [
       "gender\n",
       "0     201192\n",
       "1    1279968\n",
       "2     468927\n",
       "dtype: int64"
      ]
     },
     "execution_count": 23,
     "metadata": {},
     "output_type": "execute_result"
    }
   ],
   "source": [
    "df_bike.groupby('gender').size()"
   ]
  },
  {
   "cell_type": "code",
   "execution_count": 24,
   "id": "b6c38907",
   "metadata": {},
   "outputs": [
    {
     "data": {
      "text/plain": [
       "<AxesSubplot:ylabel='gender'>"
      ]
     },
     "execution_count": 24,
     "metadata": {},
     "output_type": "execute_result"
    },
    {
     "data": {
      "image/png": "[encoded data removed]",
      "text/plain": [
       "<Figure size 600x600 with 1 Axes>"
      ]
     },
     "metadata": {},
     "output_type": "display_data"
    }
   ],
   "source": [
    "fig = plt.figure(figsize=(3,3), dpi=200)\n",
    "ax = plt.subplot(111)\n",
    "explode = (0, 0,0.1)\n",
    "df_bike['gender'].value_counts().plot(kind='pie', ax=ax,explode=explode, autopct='%1.1f%%', startangle=0, fontsize=10)"
   ]
  },
  {
   "cell_type": "markdown",
   "id": "90a24c2d",
   "metadata": {},
   "source": [
    "## Time"
   ]
  },
  {
   "cell_type": "markdown",
   "id": "88bf15aa",
   "metadata": {},
   "source": [
    "### Convert timestamp to datetime variable"
   ]
  },
  {
   "cell_type": "code",
   "execution_count": 25,
   "id": "acc3d1c0",
   "metadata": {},
   "outputs": [],
   "source": [
    "df_bike[\"starttime\"] = pd.to_datetime(df_bike['starttime'], format='%Y-%m-%d %H:%M:%S') \n",
    "df_bike[\"stoptime\"]  = pd.to_datetime(df_bike['stoptime'], format='%Y-%m-%d %H:%M:%S')"
   ]
  },
  {
   "cell_type": "markdown",
   "id": "54e8e1f9",
   "metadata": {},
   "source": [
    "### Calculate Month/time/weekday from timetamp"
   ]
  },
  {
   "cell_type": "code",
   "execution_count": 26,
   "id": "90304f42",
   "metadata": {},
   "outputs": [],
   "source": [
    "df_bike['month']= df_bike['starttime'].dt.month_name()\n",
    "df_bike['time'] =  df_bike['starttime'].dt.time\n",
    "df_bike['weekday'] = df_bike['starttime'].dt.day_name()\n",
    "df_bike['hour'] = df_bike['starttime'].dt.hour\n",
    "df_bike['date'] = df_bike['starttime'].dt.date"
   ]
  },
  {
   "cell_type": "code",
   "execution_count": 27,
   "id": "12bda74c",
   "metadata": {},
   "outputs": [],
   "source": [
    "from pandas.api.types import CategoricalDtype\n",
    "cats = [ 'Monday', 'Tuesday', 'Wednesday', 'Thursday', 'Friday', 'Saturday', 'Sunday']\n",
    "\n",
    "cat_type = CategoricalDtype(categories=cats, ordered=True)\n",
    "df_bike['weekday'] = df_bike['weekday'].astype(cat_type)"
   ]
  },
  {
   "cell_type": "code",
   "execution_count": 28,
   "id": "45f3f1bf",
   "metadata": {
    "scrolled": false
   },
   "outputs": [
    {
     "data": {
      "text/html": [
       "<div>\n",
       "<style scoped>\n",
       "    .dataframe tbody tr th:only-of-type {\n",
       "        vertical-align: middle;\n",
       "    }\n",
       "\n",
       "    .dataframe tbody tr th {\n",
       "        vertical-align: top;\n",
       "    }\n",
       "\n",
       "    .dataframe thead th {\n",
       "        text-align: right;\n",
       "    }\n",
       "</style>\n",
       "<table border=\"1\" class=\"dataframe\">\n",
       "  <thead>\n",
       "    <tr style=\"text-align: right;\">\n",
       "      <th></th>\n",
       "      <th>tripduration</th>\n",
       "      <th>starttime</th>\n",
       "      <th>stoptime</th>\n",
       "      <th>start station id</th>\n",
       "      <th>start station name</th>\n",
       "      <th>start station latitude</th>\n",
       "      <th>start station longitude</th>\n",
       "      <th>end station id</th>\n",
       "      <th>end station name</th>\n",
       "      <th>end station latitude</th>\n",
       "      <th>...</th>\n",
       "      <th>birth year</th>\n",
       "      <th>gender</th>\n",
       "      <th>duration_mins</th>\n",
       "      <th>duration_hr</th>\n",
       "      <th>age</th>\n",
       "      <th>month</th>\n",
       "      <th>time</th>\n",
       "      <th>weekday</th>\n",
       "      <th>hour</th>\n",
       "      <th>date</th>\n",
       "    </tr>\n",
       "  </thead>\n",
       "  <tbody>\n",
       "    <tr>\n",
       "      <th>0</th>\n",
       "      <td>569</td>\n",
       "      <td>2018-06-01 01:57:20.514</td>\n",
       "      <td>2018-06-01 02:06:50.088</td>\n",
       "      <td>72</td>\n",
       "      <td>W 52 St &amp; 11 Ave</td>\n",
       "      <td>40.767272</td>\n",
       "      <td>-73.993929</td>\n",
       "      <td>173</td>\n",
       "      <td>Broadway &amp; W 49 St</td>\n",
       "      <td>40.760683</td>\n",
       "      <td>...</td>\n",
       "      <td>1999</td>\n",
       "      <td>1</td>\n",
       "      <td>9.483333</td>\n",
       "      <td>0.158056</td>\n",
       "      <td>19</td>\n",
       "      <td>June</td>\n",
       "      <td>01:57:20.514000</td>\n",
       "      <td>Friday</td>\n",
       "      <td>1</td>\n",
       "      <td>2018-06-01</td>\n",
       "    </tr>\n",
       "    <tr>\n",
       "      <th>1</th>\n",
       "      <td>480</td>\n",
       "      <td>2018-06-01 02:02:42.398</td>\n",
       "      <td>2018-06-01 02:10:43.354</td>\n",
       "      <td>72</td>\n",
       "      <td>W 52 St &amp; 11 Ave</td>\n",
       "      <td>40.767272</td>\n",
       "      <td>-73.993929</td>\n",
       "      <td>477</td>\n",
       "      <td>W 41 St &amp; 8 Ave</td>\n",
       "      <td>40.756405</td>\n",
       "      <td>...</td>\n",
       "      <td>1988</td>\n",
       "      <td>1</td>\n",
       "      <td>8.000000</td>\n",
       "      <td>0.133333</td>\n",
       "      <td>30</td>\n",
       "      <td>June</td>\n",
       "      <td>02:02:42.398000</td>\n",
       "      <td>Friday</td>\n",
       "      <td>2</td>\n",
       "      <td>2018-06-01</td>\n",
       "    </tr>\n",
       "  </tbody>\n",
       "</table>\n",
       "<p>2 rows × 23 columns</p>\n",
       "</div>"
      ],
      "text/plain": [
       "   tripduration               starttime                stoptime  \\\n",
       "0           569 2018-06-01 01:57:20.514 2018-06-01 02:06:50.088   \n",
       "1           480 2018-06-01 02:02:42.398 2018-06-01 02:10:43.354   \n",
       "\n",
       "   start station id start station name  start station latitude  \\\n",
       "0                72   W 52 St & 11 Ave               40.767272   \n",
       "1                72   W 52 St & 11 Ave               40.767272   \n",
       "\n",
       "   start station longitude  end station id    end station name  \\\n",
       "0               -73.993929             173  Broadway & W 49 St   \n",
       "1               -73.993929             477     W 41 St & 8 Ave   \n",
       "\n",
       "   end station latitude  ...  birth year  gender duration_mins  duration_hr  \\\n",
       "0             40.760683  ...        1999       1      9.483333     0.158056   \n",
       "1             40.756405  ...        1988       1      8.000000     0.133333   \n",
       "\n",
       "   age  month             time  weekday hour        date  \n",
       "0   19   June  01:57:20.514000   Friday    1  2018-06-01  \n",
       "1   30   June  02:02:42.398000   Friday    2  2018-06-01  \n",
       "\n",
       "[2 rows x 23 columns]"
      ]
     },
     "execution_count": 28,
     "metadata": {},
     "output_type": "execute_result"
    }
   ],
   "source": [
    "df_bike.head(2)"
   ]
  },
  {
   "cell_type": "markdown",
   "id": "1d87e4a8",
   "metadata": {},
   "source": [
    "### Which year/month the dataset belongs to?"
   ]
  },
  {
   "cell_type": "code",
   "execution_count": 29,
   "id": "b3d8f90a",
   "metadata": {},
   "outputs": [
    {
     "data": {
      "text/plain": [
       "June    1950087\n",
       "Name: month, dtype: int64"
      ]
     },
     "execution_count": 29,
     "metadata": {},
     "output_type": "execute_result"
    }
   ],
   "source": [
    "df_bike['month'].value_counts()"
   ]
  },
  {
   "cell_type": "markdown",
   "id": "3440b35e",
   "metadata": {},
   "source": [
    "## Geo Info"
   ]
  },
  {
   "cell_type": "markdown",
   "id": "bd769dcf",
   "metadata": {},
   "source": [
    "### Calculate distance between start/end"
   ]
  },
  {
   "cell_type": "code",
   "execution_count": 30,
   "id": "6c2ce33f",
   "metadata": {},
   "outputs": [],
   "source": [
    "def get_distance(lat1, lon1, lat2, lon2):\n",
    "    earth_radius=6371\n",
    "    lat1, lon1, lat2, lon2 = np.radians([lat1, lon1, lat2, lon2])\n",
    "\n",
    "    a = np.sin((lat2-lat1)/2.0)**2 + \\\n",
    "        np.cos(lat1) * np.cos(lat2) * np.sin((lon2-lon1)/2.0)**2\n",
    "\n",
    "    return earth_radius * 2 * np.arcsin(np.sqrt(a))    "
   ]
  },
  {
   "cell_type": "code",
   "execution_count": 31,
   "id": "454c8820",
   "metadata": {},
   "outputs": [],
   "source": [
    "df_bike['dist_km'] = get_distance(df_bike[\"start station latitude\"], df_bike[\"start station longitude\"], \n",
    "                                    df_bike[\"end station latitude\"], df_bike[\"end station longitude\"])"
   ]
  },
  {
   "cell_type": "markdown",
   "id": "9cebb0a0",
   "metadata": {},
   "source": [
    "### Station information"
   ]
  },
  {
   "cell_type": "code",
   "execution_count": null,
   "id": "92e41a32",
   "metadata": {},
   "outputs": [],
   "source": [
    "print(df_bike['start station id'].unique().shape)"
   ]
  },
  {
   "cell_type": "markdown",
   "id": "d0357bcb",
   "metadata": {},
   "source": [
    "## Missing values"
   ]
  },
  {
   "cell_type": "code",
   "execution_count": null,
   "id": "c3905b7a",
   "metadata": {},
   "outputs": [],
   "source": [
    "df_bike.shape"
   ]
  },
  {
   "cell_type": "code",
   "execution_count": null,
   "id": "dd7acd92",
   "metadata": {},
   "outputs": [],
   "source": [
    "df_bike.isnull().sum() * 100 / len(df_bike)"
   ]
  },
  {
   "cell_type": "code",
   "execution_count": null,
   "id": "3c8ccc0c",
   "metadata": {},
   "outputs": [],
   "source": [
    "fig = plt.figure(figsize=(3,3), dpi=200)\n",
    "ax = plt.subplot(111)\n",
    "df_bike['usertype'].value_counts().plot(kind='pie', ax=ax, autopct='%1.1f%%', startangle=90, fontsize=10)"
   ]
  },
  {
   "cell_type": "markdown",
   "id": "4049b3cf",
   "metadata": {},
   "source": [
    "# Explanatory Analysis"
   ]
  },
  {
   "cell_type": "markdown",
   "id": "63b22307",
   "metadata": {},
   "source": [
    "### frequency of user's gender?"
   ]
  },
  {
   "cell_type": "code",
   "execution_count": null,
   "id": "a2d8ea7e",
   "metadata": {},
   "outputs": [],
   "source": [
    "# Pie chart\n",
    "labels = get_label_size_list(df_bike, 'gender')[0]\n",
    "sizes =  get_label_size_list(df_bike, 'gender')[1]\n",
    "explode = (0, 0.1,0)  \n",
    "\n",
    "fig1, ax1 = plt.subplots()\n",
    "ax1.pie(sizes, explode=explode, labels=labels, autopct='%1.1f%%',\n",
    "        shadow=True, startangle=90)\n",
    "ax1.axis('equal')  \n",
    "\n",
    "plt.show()\n",
    "plt.savefig('piedist_gender.png')"
   ]
  },
  {
   "cell_type": "markdown",
   "id": "079034b4",
   "metadata": {},
   "source": [
    "###  How users are distributed during Weekdays?"
   ]
  },
  {
   "cell_type": "code",
   "execution_count": null,
   "id": "fec52293",
   "metadata": {},
   "outputs": [],
   "source": [
    "fig, ax = plt.subplots(figsize=(8,6))\n",
    "\n",
    "df_bike[df_bike['usertype']==\"Customer\"].groupby(\"weekday\")[\"usertype\"].count().plot(ax=ax, label='Customer', marker='o',legend=True)\n",
    "df_bike[df_bike['usertype']==\"Subscriber\"].groupby(\"weekday\")[\"usertype\"].count().plot(ax=ax, label='Subscriber', marker='o', legend=True)\n",
    "plt.title(\"Distribution of Trips during Week\")\n",
    "plt.xlabel(\"Weekday\")\n",
    "plt.ylabel('No of Trips')\n",
    "plt.savefig(\"usertype_during_weekday.png\")"
   ]
  },
  {
   "cell_type": "markdown",
   "id": "7b965650",
   "metadata": {},
   "source": [
    "###  Age vs Weekday Distribution"
   ]
  },
  {
   "cell_type": "code",
   "execution_count": null,
   "id": "abd25478",
   "metadata": {},
   "outputs": [],
   "source": [
    "fig, ax = plt.subplots(figsize=(8,6))\n",
    "weekday = (\"Monday\" or \"Tuesday\" or \"Wednesday\" or \"Thursday\")\n",
    "df_bike[df_bike['weekday']==weekday].groupby(\"age\")[\"weekday\"].count().plot(ax=ax, label='Workday', marker='o',legend=True)\n",
    "df_bike[df_bike['weekday']==\"Friday\"].groupby(\"age\")[\"weekday\"].count().plot(ax=ax, label='Friday', marker='o',legend=True)\n",
    "df_bike[df_bike['weekday'] == (\"Sunday\" or \"Saturday\")].groupby(\"age\")[\"weekday\"].count().plot(ax=ax, label='Weekend', marker='o',legend=True)\n",
    "\n",
    "\n",
    "plt.title(\"Distribution of Bike User's Age during the week\")\n",
    "plt.xlabel(\"Age\")\n",
    "plt.ylabel('No of Trips')\n",
    "plt.savefig(\"agedist_during_week.png\")"
   ]
  },
  {
   "cell_type": "code",
   "execution_count": null,
   "id": "0106e12e",
   "metadata": {},
   "outputs": [],
   "source": [
    "#sns.set(rc={'figure.figsize':(8,5)})\n",
    "#sns.set_theme(style=\"whitegrid\")\n",
    "#bplot=sns.boxplot(x=\"weekday\", y=\"age\", palette=\"colorblind\", data=df_bike)\n",
    "##bplot.axes.set_title(\"Distribution of age during Weekday\", fontsize=16)\n",
    "#bplot.set_ylabel(\"Age\", fontsize=14)\n",
    "#bplot.set_xlabel(\"Weekday\", fontsize=14)\n",
    "#plt.savefig('age_weekday_boxplot.png')"
   ]
  },
  {
   "cell_type": "markdown",
   "id": "6fd593e4",
   "metadata": {},
   "source": [
    "### How many Unique bikes are avaialble?"
   ]
  },
  {
   "cell_type": "code",
   "execution_count": null,
   "id": "b9108775",
   "metadata": {},
   "outputs": [],
   "source": [
    "#bplot=sns.histplot(df_bike[\"bikeid\"].unique())\n",
    "#bplot.set_xlabel(\"Unique BikeId\", fontsize=14)\n",
    "#plt.savefig(\"Unique_bikes.png\")\n",
    "print(\"number of unique bike-id is: \", df_bike[\"bikeid\"].unique().shape)"
   ]
  },
  {
   "cell_type": "markdown",
   "id": "7986b2eb",
   "metadata": {},
   "source": [
    "### Distribution of Users age vs gender"
   ]
  },
  {
   "cell_type": "code",
   "execution_count": null,
   "id": "c54ca602",
   "metadata": {},
   "outputs": [],
   "source": [
    "fig, ax = plt.subplots(figsize=(8,6))\n",
    "\n",
    "\n",
    "df_bike[df_bike['gender']==0].groupby(\"age\")[\"age\"].count().plot(ax=ax, label='0', marker='o',legend=True)\n",
    "df_bike[df_bike['gender']==1].groupby(\"age\")[\"age\"].count().plot(ax=ax, label='1', marker='o',legend=True)\n",
    "df_bike[df_bike['gender']==2].groupby(\"age\")[\"age\"].count().plot(ax=ax, label='2', marker='o',legend=True)\n",
    "\n",
    "\n",
    "plt.title(\"Distribution of User's Age vs Gender\")\n",
    "plt.xlabel(\"Age\")\n",
    "plt.ylabel('Count')\n",
    "plt.savefig(\"age_vs_gender.png\")"
   ]
  },
  {
   "cell_type": "markdown",
   "id": "1c5f6865",
   "metadata": {},
   "source": [
    "### Trip vs User gender "
   ]
  },
  {
   "cell_type": "code",
   "execution_count": null,
   "id": "75c10182",
   "metadata": {},
   "outputs": [],
   "source": [
    "trip_counts = df_bike.groupby('gender')['tripduration'].count()\n",
    "plt.rcParams.update({'font.size': 14})\n",
    "plt.barh([0, 1, 2], trip_counts / 1000, align = 'center', alpha = 0.5)\n",
    "plt.yticks([0, 1, 2])\n",
    "plt.xlabel('Thoudands of trips')\n",
    "plt.title('Distribution of trips according to user gender')\n",
    "plt.show()"
   ]
  },
  {
   "cell_type": "markdown",
   "id": "dcf9fc18",
   "metadata": {},
   "source": [
    "### Distribution of trip duration"
   ]
  },
  {
   "cell_type": "code",
   "execution_count": null,
   "id": "e0b3261c",
   "metadata": {},
   "outputs": [],
   "source": [
    "plt.rcParams.update({'font.size': 14})\n",
    "plt.hist(df_bike['duration_mins'][(df_bike['duration_mins'] < 60) & (df_bike['duration_mins'] != 0 )] )\n",
    "#plt.tick_params(axis = 'both', which = 'major')\n",
    "#plt.title('Distribution of trip durations\\n')\n",
    "plt.xlabel('Count of trips by duration (min)')\n",
    "plt.ylabel('Trip counts')"
   ]
  },
  {
   "cell_type": "code",
   "execution_count": null,
   "id": "e8450b35",
   "metadata": {},
   "outputs": [],
   "source": [
    "df_bike['duration_mins'].describe() ## (mean, sd) : (22, 151) minuetes "
   ]
  },
  {
   "cell_type": "code",
   "execution_count": null,
   "id": "fb5c3248",
   "metadata": {},
   "outputs": [],
   "source": [
    "# Plot the distribution of trip durations\n",
    "plt.rcParams.update({'font.size': 14})\n",
    "df_bike['duration_mins'][(df_bike['duration_mins']< 60) & (df_bike['duration_mins'] !=0)].hist(figsize = (8,5), bins = 10, alpha = 0.5)\n",
    "plt.title('Distribution of trip durations\\n')\n",
    "plt.xlabel('Duration (min.)')\n",
    "plt.ylabel('Trip counts')"
   ]
  },
  {
   "cell_type": "markdown",
   "id": "c2df93b4",
   "metadata": {},
   "source": [
    "## Frequency of trips per day per hour"
   ]
  },
  {
   "cell_type": "code",
   "execution_count": null,
   "id": "1e3f50c8",
   "metadata": {},
   "outputs": [],
   "source": [
    "df_1 = df_bike[df_bike[\"start station name\"] == \"Central Park S & 6 Ave\"]\n",
    "df_1 = df_1.loc[:, ['tripduration', 'starttime']] \n",
    "df_1.index = df_1['starttime']"
   ]
  },
  {
   "cell_type": "code",
   "execution_count": null,
   "id": "2cbf6094",
   "metadata": {},
   "outputs": [],
   "source": [
    "june2_sat  = df_1[df_1.index.date == pd.Timestamp(2018, 6, 2)]\n",
    "june3_sun  = df_1[df_1.index.date == pd.Timestamp(2018, 6, 3)]\n",
    "june4_mon  = df_1[df_1.index.date == pd.Timestamp(2018, 6, 4)]\n",
    "\n",
    "june2_countsPerHr  = june2_sat.groupby(june2_sat.index.hour).size()\n",
    "june3_countsPerHr  = june3_sun.groupby(june3_sun.index.hour).size()\n",
    "june4_countsPerHr  = june4_mon.groupby(june4_mon.index.hour).size()"
   ]
  },
  {
   "cell_type": "code",
   "execution_count": null,
   "id": "1e88b9b2",
   "metadata": {},
   "outputs": [],
   "source": [
    "plt.rcParams.update({'font.size': 18, 'legend.fontsize': 20})\n",
    "legend = ax.legend(loc='upper left', frameon = False)\n",
    "\n",
    "june3_countsPerHr.plot(kind = 'area', stacked = False, \n",
    "                          linewidth = 2, label='Sun, Jun3', legend=True, figsize = (10, 6))\n",
    "\n",
    "\n",
    "june2_countsPerHr.plot(kind = 'area', stacked = False, \n",
    "                          linewidth = 2, label='Sam, Jun2', legend=True)\n",
    "\n",
    "\n",
    "june4_countsPerHr.plot(kind = 'area', stacked = False, \n",
    "                          linewidth = 2, label='Mon, Jun4', legend=True)\n",
    "\n",
    "\n",
    "\n",
    "plt.tick_params(axis = 'both', which = 'major', labelsize = 18)\n",
    "#ax = plt.gca()\n",
    "plt.title('Number of trips/hour from Central Park S & 6 Ave')\n",
    "plt.xlabel('Time of day (hr)')\n",
    "plt.ylabel('Number of trips')\n",
    "plt.plot()"
   ]
  },
  {
   "cell_type": "code",
   "execution_count": null,
   "id": "75b3dbeb",
   "metadata": {},
   "outputs": [],
   "source": [
    "# Calculate trip counts per hour on weekdays and weekends\n",
    "df_sub = df_bike.loc[:, ['tripduration', 'starttime']] \n",
    "df_sub.index = df_sub['starttime']\n",
    "monday  = df_sub[df_sub.index.weekday == 0]\n",
    "tuesday = df_sub[df_sub.index.weekday == 1]\n",
    "wednesday = df_sub[df_sub.index.weekday == 2]\n",
    "monday_countsPerHr  = monday.groupby(monday.index.hour).size()\n",
    "tuesday_countsPerHr = tuesday.groupby(tuesday.index.hour).size()\n",
    "wednesday_countsPerHr = wednesday.groupby(wednesday.index.hour).size()"
   ]
  },
  {
   "cell_type": "code",
   "execution_count": null,
   "id": "5a3ff325",
   "metadata": {},
   "outputs": [],
   "source": [
    "plt.rcParams.update({'font.size': 18, 'legend.fontsize': 20})\n",
    "\n",
    "tuesday_countsPerHr.plot(kind = 'line', stacked = False,  figsize = (10, 6),\n",
    "                          linewidth = 2, label='Tuesday', legend=True)\n",
    "\n",
    "\n",
    "wednesday_countsPerHr.plot(kind = 'line', stacked = False, \n",
    "                          linewidth = 2, label='Wednesday', legend=True)\n",
    "\n",
    "monday_countsPerHr.plot(kind = 'line', stacked = False,\n",
    "                          linewidth = 2, label='Monday', legend=True)\n",
    "\n",
    "\n",
    "\n",
    "plt.tick_params(axis = 'both', which = 'major', labelsize = 18)\n",
    "#ax = plt.gca()\n",
    "plt.title('Number of trips per hour')\n",
    "plt.xlabel('Time of day (hr)')\n",
    "plt.ylabel('Number of trips')\n",
    "legend = ax.legend(loc='upper left', frameon = False)"
   ]
  },
  {
   "cell_type": "markdown",
   "id": "4c534cd6",
   "metadata": {},
   "source": [
    "### Frequency of trips per hrs"
   ]
  },
  {
   "cell_type": "code",
   "execution_count": null,
   "id": "49523da3",
   "metadata": {},
   "outputs": [],
   "source": [
    "# Calculate trip counts per hour on weekdays and weekends\n",
    "df_sub = df_bike.loc[:, ['tripduration', 'starttime']] \n",
    "df_sub.index = df_sub['starttime']\n",
    "weekdays = df_sub[df_sub.index.weekday < 5]\n",
    "weekends = df_sub[df_sub.index.weekday > 4]\n",
    "weekdays_countsPerHr = weekdays.groupby(weekdays.index.hour).size()\n",
    "weekends_countsPerHr = weekends.groupby(weekends.index.hour).size()"
   ]
  },
  {
   "cell_type": "code",
   "execution_count": null,
   "id": "d7a0e2a0",
   "metadata": {},
   "outputs": [],
   "source": [
    "plt.rcParams.update({'font.size': 18, 'legend.fontsize': 20})\n",
    "weekdays_countsPerHr.plot(kind = 'area', stacked = False, figsize = (10, 6),\n",
    "                          linewidth = 2, label='Weekdays', legend=True)\n",
    "\n",
    "weekends_countsPerHr.plot(kind = 'area', stacked = False, \n",
    "                          linewidth = 2, label='Weekends', legend=True)\n",
    "\n",
    "plt.tick_params(axis = 'both', which = 'major', labelsize = 18)\n",
    "#ax = plt.gca()\n",
    "plt.title('Number of trips per hour')\n",
    "plt.xlabel('Time of day (hr)')\n",
    "plt.ylabel('Number of trips')\n",
    "legend = ax.legend(loc='upper left', frameon = False)"
   ]
  },
  {
   "cell_type": "markdown",
   "id": "d76ad0d3",
   "metadata": {},
   "source": [
    "### Frequency of trips per day"
   ]
  },
  {
   "cell_type": "code",
   "execution_count": null,
   "id": "74c81b6d",
   "metadata": {},
   "outputs": [],
   "source": [
    "df_1 = df_bike[(df_bike[\"start station name\"] == \"Central Park S & 6 Ave\") & \n",
    "               (df_bike.index.date == pd.Timestamp(2013, 6, 1))]"
   ]
  },
  {
   "cell_type": "code",
   "execution_count": null,
   "id": "ea44c729",
   "metadata": {},
   "outputs": [],
   "source": [
    "df_bike.index = df_bike['starttime']\n",
    "countsPerDay = df_bike.starttime.resample('D').agg('count')"
   ]
  },
  {
   "cell_type": "code",
   "execution_count": null,
   "id": "d395f08c",
   "metadata": {},
   "outputs": [],
   "source": [
    "countsPerDay.plot(kind = 'area', stacked = False, figsize = (15, 5), linewidth = 2)\n",
    "#plt.tick_params(axis = 'both', which = 'major', labelsize = 18)\n",
    "plt.title('Number of trips per day')\n",
    "plt.xlabel('Date')\n",
    "plt.ylabel('Number of trips')"
   ]
  },
  {
   "cell_type": "markdown",
   "id": "a79dbc30",
   "metadata": {},
   "source": [
    "### Which station had the oldest riders on average"
   ]
  },
  {
   "cell_type": "code",
   "execution_count": null,
   "id": "59f3e6c7",
   "metadata": {},
   "outputs": [],
   "source": [
    "n_trip=120 #1258\n",
    "cut = df_bike[df_bike['age']>60].groupby(['start station name','end station name']).filter(lambda x: x['tripduration'].count() >= n_trip) "
   ]
  },
  {
   "cell_type": "code",
   "execution_count": null,
   "id": "20894b1c",
   "metadata": {},
   "outputs": [],
   "source": [
    "fig, ax = plt.subplots(figsize=(7,6))\n",
    "plt.hist(cut['start station name'])\n",
    "plt.xticks(rotation='vertical')\n",
    "#plt.xticks(rotation=45)\n",
    "plt.title('Most frequenced trips by Older riders (> 60 years)')\n",
    "plt.xlabel('Station name')\n",
    "plt.ylabel('Number of trips')\n",
    "plt.show()"
   ]
  },
  {
   "cell_type": "markdown",
   "id": "23591f67",
   "metadata": {},
   "source": [
    "### Most Populer Customer Trip"
   ]
  },
  {
   "cell_type": "code",
   "execution_count": null,
   "id": "e20c7c9b",
   "metadata": {},
   "outputs": [],
   "source": [
    "n_trip=500 #1258\n",
    "cut=df_bike[df_bike['usertype']=='Customer'].groupby(['start station name', 'end station name']).filter(lambda x: x['tripduration'].count() >= n_trip) "
   ]
  },
  {
   "cell_type": "code",
   "execution_count": null,
   "id": "139785b3",
   "metadata": {
    "scrolled": true
   },
   "outputs": [],
   "source": [
    "plt.hist(cut['start station name'])\n",
    "plt.xticks(rotation='vertical')\n",
    "#plt.xticks(rotation=45)\n",
    "plt.title('Most frequenced trips by Customers')\n",
    "plt.xlabel('Station name')\n",
    "plt.ylabel('Number of trips')\n",
    "plt.show()"
   ]
  },
  {
   "cell_type": "code",
   "execution_count": null,
   "id": "6f1ab9da",
   "metadata": {},
   "outputs": [],
   "source": [
    "print(cut['start station name'].unique(), cut['end station name'].unique(),cut['age'].unique())\n",
    "print(cut['gender'].unique(), cut['age'].median())"
   ]
  },
  {
   "cell_type": "markdown",
   "id": "5f52ffff",
   "metadata": {},
   "source": [
    "### Most populer Subscriber Trip"
   ]
  },
  {
   "cell_type": "code",
   "execution_count": null,
   "id": "fb119c03",
   "metadata": {},
   "outputs": [],
   "source": [
    "df_subs=df_bike[df_bike['usertype']=='Subscriber'].groupby(['start station name', 'end station name']).filter(lambda x: x['tripduration'].count() >= 600)\n",
    "df_subs.shape"
   ]
  },
  {
   "cell_type": "code",
   "execution_count": null,
   "id": "eb4ff06c",
   "metadata": {},
   "outputs": [],
   "source": [
    "plt.hist(df_subs['start station name'])\n",
    "plt.xticks(rotation='vertical')\n",
    "#plt.xticks(rotation=45)\n",
    "plt.title('Most frequenced trips by Subscriber')\n",
    "plt.xlabel('Station name')\n",
    "plt.ylabel('Number of trips')\n",
    "plt.show()"
   ]
  },
  {
   "cell_type": "code",
   "execution_count": null,
   "id": "96605583",
   "metadata": {},
   "outputs": [],
   "source": [
    "print(df_subs['start station name'].unique(), df_subs['end station name'].unique(),df_subs['gender'].unique())\n",
    "print(df_subs['weekday'].unique(), df_subs['age'].median())"
   ]
  },
  {
   "cell_type": "code",
   "execution_count": null,
   "id": "444a0aa8",
   "metadata": {},
   "outputs": [],
   "source": [
    "sns.histplot(df_subs['duration_hr'])"
   ]
  },
  {
   "cell_type": "code",
   "execution_count": null,
   "id": "a917667b",
   "metadata": {},
   "outputs": [],
   "source": [
    "#import dtale\n",
    "#dtale.show(df_bike)"
   ]
  },
  {
   "cell_type": "code",
   "execution_count": null,
   "id": "d1471fe2",
   "metadata": {},
   "outputs": [],
   "source": [
    "df_bike.shape"
   ]
  },
  {
   "cell_type": "markdown",
   "id": "62966469",
   "metadata": {},
   "source": [
    "### Geometry \n",
    "https://livecodestream.dev/post/how-to-plot-your-data-on-maps-using-python-and-folium/\n",
    "https://towardsdatascience.com/visualizing-bike-mobility-in-london-using-interactive-maps-for-absolute-beginners-3b9f55ccb59    "
   ]
  },
  {
   "cell_type": "code",
   "execution_count": null,
   "id": "b35c67ef",
   "metadata": {},
   "outputs": [],
   "source": [
    "### Find most common start and end routes \n",
    "import folium\n",
    "df_sub = df_bike[['start station name','end station name', 'start station latitude','start station longitude','end station latitude','end station longitude']]\n",
    "# df_routes = df_sub.groupby(['Start Station Name','Start Station Latitude', 'Start Station Longitude', 'End Station Name', 'End Station Latitude','End Station Longitude']).size().reset_index(name='Counts of trips')\n",
    "\n",
    "# df_routes = df_routes.nlargest(50, columns=['Counts of trips'])\n",
    "# # print(df_routes)\n",
    "\n",
    "# df_sub = df_sub[df_sub['Start Station Name'] != df_sub['End Station Name']]\n",
    "df_sub['both'] = df_sub['start station name'] + ', ' + df_sub['end station name']\n",
    "# # perform the transformation asked\n",
    "df_sub = df_sub.groupby(['start station name','start station latitude', 'start station longitude', 'end station name', 'end station latitude','end station longitude'])['both'].count().reset_index(name='Counts of trips')\n",
    "df_sub = df_sub.nsmallest(100, columns=['Counts of trips'])\n"
   ]
  },
  {
   "cell_type": "code",
   "execution_count": null,
   "id": "cbf6bf96",
   "metadata": {},
   "outputs": [],
   "source": [
    "map1 = folium.Map(\n",
    "    \n",
    "    location=[40.732775,-74.105973],\n",
    "    tiles='cartodbpositron',\n",
    "    zoom_start= 15,\n",
    "    max_width= 150, max_height=150\n",
    ")\n",
    "\n",
    "\n",
    "df_sub.apply(lambda row:folium.CircleMarker(location=[row[\"start station latitude\"], row[\"start station longitude\"]], popup=row[\"start station name\"],radius=5, color=\"Red\").add_to(map1), axis=1)\n",
    "#df_sub.apply(lambda row:folium.CircleMarker(location=[row[\"start station latitude\"], row[\"start station longitude\"]],popup=row[\"start station name\"], color='green').add_to(map1), axis=1)\n",
    "\n",
    "\n",
    "map1"
   ]
  },
  {
   "cell_type": "code",
   "execution_count": null,
   "id": "cc78e76f",
   "metadata": {},
   "outputs": [],
   "source": [
    "import geopandas as gpd\n",
    "street_map = gpd.read_file(\"/Users/psaxena/Downloads/NYS_Civil_Boundaries/Counties.shp\")"
   ]
  },
  {
   "cell_type": "code",
   "execution_count": null,
   "id": "f56bf1e2",
   "metadata": {},
   "outputs": [],
   "source": [
    "fig, ax = plt.subplots(figsize=(15,15))\n",
    "street_map.plot(ax=ax, alpha=0.4, color='grey')"
   ]
  },
  {
   "cell_type": "code",
   "execution_count": null,
   "id": "8ef5f037",
   "metadata": {},
   "outputs": [],
   "source": [
    "m = folium.Map(location=[48, -102], zoom_start=3)\n",
    "\n",
    "folium.Choropleth(\n",
    "    geo_data=us_states,\n",
    "    name='choropleth',\n",
    "    data=df_bike,\n",
    "    columns=['start station lattitude', 'age'],\n",
    "    key_on='feature.id',\n",
    "    fill_color='YlGn',\n",
    "    fill_opacity=0.7,\n",
    "    line_opacity=0.2,\n",
    "    legend_name='Unemployment Rate %'\n",
    ").add_to(m)\n",
    "\n",
    "m"
   ]
  },
  {
   "cell_type": "code",
   "execution_count": null,
   "id": "ec17370b",
   "metadata": {},
   "outputs": [],
   "source": [
    "gdf = geopandas.GeoDataFrame(df_bike, geometry=geopandas.points_from_xy(df_bike[\"start station longitude\"], \n",
    "                                                                        df_bike[\"start station latitude\"]))"
   ]
  },
  {
   "cell_type": "code",
   "execution_count": null,
   "id": "004b6c9b",
   "metadata": {},
   "outputs": [],
   "source": [
    "world = geopandas.read_file(geopandas.datasets.get_path('naturalearth_lowres'))\n",
    "\n",
    "# We restrict to South America.\n",
    "ax = world[world.continent == 'North America'].plot(\n",
    "    color='white', edgecolor='black')\n",
    "# We can now plot our ``GeoDataFrame``.\n",
    "gdf.plot(ax=ax, color='red')\n",
    "\n",
    "plt.show()"
   ]
  },
  {
   "cell_type": "code",
   "execution_count": null,
   "id": "2e6d0e37",
   "metadata": {},
   "outputs": [],
   "source": [
    "plt.hist(df_bike[\"start station id\"].unique())"
   ]
  },
  {
   "cell_type": "code",
   "execution_count": null,
   "id": "d4108bbc",
   "metadata": {},
   "outputs": [],
   "source": [
    "plt.hist(df_bike[\"start station id\"])\n",
    "print(\"number of unique start-station-id is: \", df_bike[\"start station id\"].unique().shape)"
   ]
  },
  {
   "cell_type": "code",
   "execution_count": null,
   "id": "e1940aad",
   "metadata": {},
   "outputs": [],
   "source": [
    "sns.histplot(df_bike[\"end station id\"].unique())\n",
    "print(\"number of unique end-station-id is: \", df_bike[\"end station id\"].unique().shape)"
   ]
  },
  {
   "cell_type": "code",
   "execution_count": null,
   "id": "65ec45ae",
   "metadata": {},
   "outputs": [],
   "source": [
    "sns.countplot(data=df_bike, x='start station id', order=df_bike[\"start station id\"].value_counts().index)"
   ]
  },
  {
   "cell_type": "code",
   "execution_count": null,
   "id": "9a52e977",
   "metadata": {},
   "outputs": [],
   "source": [
    "sns.displot(data=df_bike, x=\"age\", hue='usertype', multiple='stack', aspect=10/5); "
   ]
  },
  {
   "cell_type": "code",
   "execution_count": null,
   "id": "58f65849",
   "metadata": {},
   "outputs": [],
   "source": [
    "plt.boxplot(df_bike['duration_mins'])\n",
    "print(df_bike['duration_mins'].describe())"
   ]
  },
  {
   "cell_type": "markdown",
   "id": "04173c39",
   "metadata": {},
   "source": [
    "# Modelling"
   ]
  },
  {
   "cell_type": "markdown",
   "id": "3f8b9ecc",
   "metadata": {},
   "source": [
    "## Splitting of train / val / test dataset"
   ]
  },
  {
   "cell_type": "code",
   "execution_count": 32,
   "id": "25b3eeea",
   "metadata": {},
   "outputs": [],
   "source": [
    "def get_class_counts(df, label, count_var):\n",
    "    '''\n",
    "    param df : pandas dataframe\n",
    "    param label : label as string\n",
    "    \n",
    "    Give class counts of the label in df\n",
    "    \n",
    "    Eg: df = pd.DataFrame({'Team':['Riders', 'Riders', 'Riders', 'Kings','Kings'], \n",
    "                           'year':['2016','2016','2015','2018','2016']})\n",
    "       get_class_counts(df, label='Team', count_var='year') will give you:\n",
    "       {'Kings': 2, 'Riders': 3}  \n",
    "    '''\n",
    "    grp = df.groupby([label])[count_var].count()\n",
    "    return {key: grp[key] for key in list(grp.keys())}\n",
    "\n",
    "\n",
    "def get_class_proportions(df, label, count_var):\n",
    "    '''\n",
    "    param df: pandas dataframe\n",
    "    param label : label as string\n",
    "    \n",
    "    Give proportion of the label class in df dataset. \n",
    "    \n",
    "    Eg: df = pd.DataFrame({'Team':['Riders', 'Riders', 'Riders', 'Kings','Kings'], \n",
    "                           'year':['2016','2016','2015','2018','2016']})\n",
    "        get_class_proportions(df, label='Team', count_var='year') will give you:\n",
    "        {'Kings': 0.4, 'Riders': 0.6}\n",
    "    '''\n",
    "    class_counts = get_class_counts(df, label, count_var)\n",
    "    return {val[0]: round(val[1]/df.shape[0],4) for val in class_counts.items()}"
   ]
  },
  {
   "cell_type": "code",
   "execution_count": 33,
   "id": "e0a85ea5",
   "metadata": {},
   "outputs": [],
   "source": [
    "from sklearn.model_selection import train_test_split\n",
    "\n",
    "def data_split(dataset, label, count_var, train_frac, random_state=123):\n",
    "    ''' \n",
    "    param dataset  : Data to be split\n",
    "    param label    : label as string\n",
    "    param train_frac: Ratio of train set to whole dataset\n",
    "\n",
    "    Randomly split dataset, based on these ratios:\n",
    "        'train': train_frac\n",
    "        'valid': (1-train_frac) / 2\n",
    "        'test':  (1-train_frac) / 2\n",
    "\n",
    "    Eg: passing train_frac=0.8 gives a 80% / 10% / 10% split\n",
    "    '''\n",
    "\n",
    "    assert train_frac >= 0 and train_frac <= 1, \"Invalid training set fraction\"\n",
    "\n",
    "    train, tmp = train_test_split(dataset, train_size=train_frac, random_state=random_state, shuffle=True,\n",
    "                                  stratify=dataset[label])\n",
    "    val, test  = train_test_split(tmp, train_size=0.5, random_state=random_state, shuffle=True,\n",
    "                                  stratify=tmp[label])\n",
    "    \n",
    "    print(f\"Class proportion: \\n in train: {get_class_proportions(train, label, count_var)} \\n in val: {get_class_proportions(val, label, count_var)} \\n in test: {get_class_proportions(test, label, count_var)}\")\n",
    "    return train, val, test"
   ]
  },
  {
   "cell_type": "code",
   "execution_count": 34,
   "id": "52cbae8a",
   "metadata": {},
   "outputs": [
    {
     "data": {
      "text/html": [
       "<div>\n",
       "<style scoped>\n",
       "    .dataframe tbody tr th:only-of-type {\n",
       "        vertical-align: middle;\n",
       "    }\n",
       "\n",
       "    .dataframe tbody tr th {\n",
       "        vertical-align: top;\n",
       "    }\n",
       "\n",
       "    .dataframe thead th {\n",
       "        text-align: right;\n",
       "    }\n",
       "</style>\n",
       "<table border=\"1\" class=\"dataframe\">\n",
       "  <thead>\n",
       "    <tr style=\"text-align: right;\">\n",
       "      <th></th>\n",
       "      <th>duration_mins</th>\n",
       "      <th>gender</th>\n",
       "      <th>start station id</th>\n",
       "      <th>age</th>\n",
       "      <th>weekday</th>\n",
       "      <th>hour</th>\n",
       "      <th>usertype</th>\n",
       "    </tr>\n",
       "  </thead>\n",
       "  <tbody>\n",
       "    <tr>\n",
       "      <th>0</th>\n",
       "      <td>9.483333</td>\n",
       "      <td>1</td>\n",
       "      <td>72</td>\n",
       "      <td>19</td>\n",
       "      <td>Friday</td>\n",
       "      <td>1</td>\n",
       "      <td>Subscriber</td>\n",
       "    </tr>\n",
       "    <tr>\n",
       "      <th>1</th>\n",
       "      <td>8.000000</td>\n",
       "      <td>1</td>\n",
       "      <td>72</td>\n",
       "      <td>30</td>\n",
       "      <td>Friday</td>\n",
       "      <td>2</td>\n",
       "      <td>Subscriber</td>\n",
       "    </tr>\n",
       "    <tr>\n",
       "      <th>2</th>\n",
       "      <td>11.533333</td>\n",
       "      <td>1</td>\n",
       "      <td>72</td>\n",
       "      <td>32</td>\n",
       "      <td>Friday</td>\n",
       "      <td>2</td>\n",
       "      <td>Subscriber</td>\n",
       "    </tr>\n",
       "  </tbody>\n",
       "</table>\n",
       "</div>"
      ],
      "text/plain": [
       "   duration_mins  gender  start station id  age weekday  hour    usertype\n",
       "0       9.483333       1                72   19  Friday     1  Subscriber\n",
       "1       8.000000       1                72   30  Friday     2  Subscriber\n",
       "2      11.533333       1                72   32  Friday     2  Subscriber"
      ]
     },
     "execution_count": 34,
     "metadata": {},
     "output_type": "execute_result"
    }
   ],
   "source": [
    "selected_columns = df_bike[['duration_mins','gender', 'start station id','age', 'weekday','hour', 'usertype']]\n",
    "df_bike_model = selected_columns.copy()\n",
    "\n",
    "df_bike_model.head(3) "
   ]
  },
  {
   "cell_type": "code",
   "execution_count": 35,
   "id": "4abecb25",
   "metadata": {},
   "outputs": [],
   "source": [
    "from sklearn import preprocessing\n",
    "le = preprocessing.LabelEncoder()\n",
    "for column_name in df_bike_model.columns:\n",
    "    if df_bike_model[column_name].dtype.name == 'category' or df_bike_model[column_name].dtype == object:\n",
    "        df_bike_model[column_name] = le.fit_transform(df_bike_model[column_name])\n",
    "    else:\n",
    "        pass"
   ]
  },
  {
   "cell_type": "code",
   "execution_count": 36,
   "id": "31c64a1f",
   "metadata": {},
   "outputs": [
    {
     "name": "stdout",
     "output_type": "stream",
     "text": [
      "Class proportion: \n",
      " in train: {0: 0.1321, 1: 0.8679} \n",
      " in val: {0: 0.1321, 1: 0.8679} \n",
      " in test: {0: 0.1321, 1: 0.8679}\n"
     ]
    }
   ],
   "source": [
    "train, val, test = data_split(df_bike_model, label='usertype', count_var='hour',train_frac=0.8)"
   ]
  },
  {
   "cell_type": "code",
   "execution_count": 37,
   "id": "f4dc9a91",
   "metadata": {},
   "outputs": [
    {
     "name": "stdout",
     "output_type": "stream",
     "text": [
      "(1560069, 7) (195009, 7) (195009, 7)\n"
     ]
    }
   ],
   "source": [
    "print(train.shape, val.shape, test.shape) #1560069"
   ]
  },
  {
   "cell_type": "markdown",
   "id": "9be01763",
   "metadata": {},
   "source": [
    "## Algorithm \n",
    "1. https://machinelearningmastery.com/ensemble-machine-learning-algorithms-python-scikit-learn/"
   ]
  },
  {
   "cell_type": "code",
   "execution_count": 47,
   "id": "a43ced2f",
   "metadata": {},
   "outputs": [],
   "source": [
    "##imports\n",
    "from sklearn.ensemble import RandomForestClassifier\n",
    "from sklearn.linear_model import LogisticRegression\n",
    "from xgboost import XGBClassifier\n",
    "from sklearn.model_selection import RepeatedStratifiedKFold\n",
    "from sklearn.model_selection import cross_val_score\n",
    "import xgboost\n",
    "from sklearn.ensemble import VotingClassifier\n",
    "from sklearn.tree import DecisionTreeClassifier\n",
    "from sklearn.ensemble import GradientBoostingClassifier\n",
    "import sklearn.metrics as metrics\n",
    "from sklearn.metrics import accuracy_score \n",
    "from sklearn.metrics import classification_report\n",
    "xgboost.set_config(verbosity=0)"
   ]
  },
  {
   "cell_type": "code",
   "execution_count": 39,
   "id": "fe357f53",
   "metadata": {},
   "outputs": [],
   "source": [
    "X_train = train.loc[:, train.columns != 'usertype']\n",
    "y_train = train['usertype']\n",
    "\n",
    "X_test = test.loc[:, test.columns != 'usertype']\n",
    "y_test = test['usertype']\n",
    "\n",
    "X_val = val.loc[:, val.columns != 'usertype']\n",
    "y_val = val['usertype']"
   ]
  },
  {
   "cell_type": "code",
   "execution_count": null,
   "id": "9a3e4d6d",
   "metadata": {},
   "outputs": [],
   "source": [
    "# Decision tree model\n",
    "from sklearn.tree import DecisionTreeClassifier\n",
    "dtc = DecisionTreeClassifier(random_state=0)\n",
    "\n",
    "# Fitting and making predictions\n",
    "dtc.fit(X_train, y_train)\n",
    "y_pred_dtc = dtc.predict(X_val)\n",
    "\n",
    "# Accuracy score\n",
    "from sklearn import metrics\n",
    "metrics.accuracy_score(y_val, y_pred_dtc)"
   ]
  },
  {
   "cell_type": "code",
   "execution_count": null,
   "id": "de7a38a2",
   "metadata": {},
   "outputs": [],
   "source": [
    "# Different evaluation metrics\n",
    "print(\"\\n AUC-ROC:\", metrics.roc_auc_score(y_val, y_pred_dtc)) #AUC-ROC\n",
    "print(\"\\n confusion matrix: \\n\", metrics.plot_confusion_matrix(dtc, X_val, y_val)) \n",
    "print()\n",
    "\n",
    "# Plotting classification report\n",
    "from sklearn.metrics import classification_report\n",
    "clf_report_dtc = classification_report(y_val, y_pred_dtc, output_dict=True)\n",
    "plt.figure()\n",
    "\n",
    "plt.title(\"Decision Tree - baseline\")\n",
    "sns.heatmap(pd.DataFrame(clf_report_dtc).iloc[:-1, :-3].T, annot=True) # retains only precision, recall, F1 score for both classes\n",
    "plt.show()"
   ]
  },
  {
   "cell_type": "code",
   "execution_count": null,
   "id": "19d4f238",
   "metadata": {},
   "outputs": [],
   "source": [
    "# make predictions for test data\n",
    "y_pred_val = dtc.predict(X_val)\n",
    "predictions = [round(value) for value in y_pred_val]\n",
    "\n",
    "# evaluate predictions\n",
    "accuracy_tree = metrics.accuracy_score(y_val, predictions)\n",
    "print(\"Accuracy: %.2f%%\" % (accuracy_tree * 100.0))\n",
    "\n",
    "from sklearn.metrics import confusion_matrix\n",
    "# Get and reshape confusion matrix data\n",
    "matrix = confusion_matrix(y_val, y_pred_val)\n",
    "matrix = matrix.astype('float') / matrix.sum(axis=1)[:, np.newaxis]\n",
    "\n",
    "# Build the plot\n",
    "plt.figure(figsize=(7,5))\n",
    "sns.set(font_scale=1.4)\n",
    "sns.heatmap(matrix, annot=True, annot_kws={'size':10},\n",
    "            cmap=plt.cm.Greens, linewidths=0.2)\n",
    "\n",
    "# Add labels to the plot\n",
    "class_names = ['Customer', 'Subscriber']\n",
    "tick_marks = np.arange(len(class_names))\n",
    "#tick_marks2 = tick_marks + 0.5\n",
    "plt.xticks(tick_marks, class_names, rotation=0)\n",
    "plt.yticks(tick_marks, class_names, rotation=0)\n",
    "plt.xlabel('Predicted label')\n",
    "plt.ylabel('True label')\n",
    "plt.title('Confusion Matrix for DecisionTree Classifier \\n')\n",
    "plt.show()"
   ]
  },
  {
   "cell_type": "code",
   "execution_count": null,
   "id": "6ebb8c51",
   "metadata": {
    "scrolled": true
   },
   "outputs": [
    {
     "name": "stderr",
     "output_type": "stream",
     "text": [
      "/Users/psaxena/Library/Python/3.8/lib/python/site-packages/sklearn/linear_model/_logistic.py:763: ConvergenceWarning: lbfgs failed to converge (status=1):\n",
      "STOP: TOTAL NO. of ITERATIONS REACHED LIMIT.\n",
      "\n",
      "Increase the number of iterations (max_iter) or scale the data as shown in:\n",
      "    https://scikit-learn.org/stable/modules/preprocessing.html\n",
      "Please also refer to the documentation for alternative solver options:\n",
      "    https://scikit-learn.org/stable/modules/linear_model.html#logistic-regression\n",
      "  n_iter_i = _check_optimize_result(\n",
      "/Users/psaxena/Library/Python/3.8/lib/python/site-packages/sklearn/linear_model/_logistic.py:763: ConvergenceWarning: lbfgs failed to converge (status=1):\n",
      "STOP: TOTAL NO. of ITERATIONS REACHED LIMIT.\n",
      "\n",
      "Increase the number of iterations (max_iter) or scale the data as shown in:\n",
      "    https://scikit-learn.org/stable/modules/preprocessing.html\n",
      "Please also refer to the documentation for alternative solver options:\n",
      "    https://scikit-learn.org/stable/modules/linear_model.html#logistic-regression\n",
      "  n_iter_i = _check_optimize_result(\n",
      "/Users/psaxena/Library/Python/3.8/lib/python/site-packages/sklearn/linear_model/_logistic.py:763: ConvergenceWarning: lbfgs failed to converge (status=1):\n",
      "STOP: TOTAL NO. of ITERATIONS REACHED LIMIT.\n",
      "\n",
      "Increase the number of iterations (max_iter) or scale the data as shown in:\n",
      "    https://scikit-learn.org/stable/modules/preprocessing.html\n",
      "Please also refer to the documentation for alternative solver options:\n",
      "    https://scikit-learn.org/stable/modules/linear_model.html#logistic-regression\n",
      "  n_iter_i = _check_optimize_result(\n",
      "/Users/psaxena/Library/Python/3.8/lib/python/site-packages/sklearn/linear_model/_logistic.py:763: ConvergenceWarning: lbfgs failed to converge (status=1):\n",
      "STOP: TOTAL NO. of ITERATIONS REACHED LIMIT.\n",
      "\n",
      "Increase the number of iterations (max_iter) or scale the data as shown in:\n",
      "    https://scikit-learn.org/stable/modules/preprocessing.html\n",
      "Please also refer to the documentation for alternative solver options:\n",
      "    https://scikit-learn.org/stable/modules/linear_model.html#logistic-regression\n",
      "  n_iter_i = _check_optimize_result(\n",
      "/Users/psaxena/Library/Python/3.8/lib/python/site-packages/sklearn/linear_model/_logistic.py:763: ConvergenceWarning: lbfgs failed to converge (status=1):\n",
      "STOP: TOTAL NO. of ITERATIONS REACHED LIMIT.\n",
      "\n",
      "Increase the number of iterations (max_iter) or scale the data as shown in:\n",
      "    https://scikit-learn.org/stable/modules/preprocessing.html\n",
      "Please also refer to the documentation for alternative solver options:\n",
      "    https://scikit-learn.org/stable/modules/linear_model.html#logistic-regression\n",
      "  n_iter_i = _check_optimize_result(\n",
      "/Users/psaxena/Library/Python/3.8/lib/python/site-packages/sklearn/linear_model/_logistic.py:763: ConvergenceWarning: lbfgs failed to converge (status=1):\n",
      "STOP: TOTAL NO. of ITERATIONS REACHED LIMIT.\n",
      "\n",
      "Increase the number of iterations (max_iter) or scale the data as shown in:\n",
      "    https://scikit-learn.org/stable/modules/preprocessing.html\n",
      "Please also refer to the documentation for alternative solver options:\n",
      "    https://scikit-learn.org/stable/modules/linear_model.html#logistic-regression\n",
      "  n_iter_i = _check_optimize_result(\n",
      "/Users/psaxena/Library/Python/3.8/lib/python/site-packages/sklearn/linear_model/_logistic.py:763: ConvergenceWarning: lbfgs failed to converge (status=1):\n",
      "STOP: TOTAL NO. of ITERATIONS REACHED LIMIT.\n",
      "\n",
      "Increase the number of iterations (max_iter) or scale the data as shown in:\n",
      "    https://scikit-learn.org/stable/modules/preprocessing.html\n",
      "Please also refer to the documentation for alternative solver options:\n",
      "    https://scikit-learn.org/stable/modules/linear_model.html#logistic-regression\n",
      "  n_iter_i = _check_optimize_result(\n",
      "/Users/psaxena/Library/Python/3.8/lib/python/site-packages/sklearn/linear_model/_logistic.py:763: ConvergenceWarning: lbfgs failed to converge (status=1):\n",
      "STOP: TOTAL NO. of ITERATIONS REACHED LIMIT.\n",
      "\n",
      "Increase the number of iterations (max_iter) or scale the data as shown in:\n",
      "    https://scikit-learn.org/stable/modules/preprocessing.html\n",
      "Please also refer to the documentation for alternative solver options:\n",
      "    https://scikit-learn.org/stable/modules/linear_model.html#logistic-regression\n",
      "  n_iter_i = _check_optimize_result(\n",
      "/Users/psaxena/Library/Python/3.8/lib/python/site-packages/sklearn/linear_model/_logistic.py:763: ConvergenceWarning: lbfgs failed to converge (status=1):\n",
      "STOP: TOTAL NO. of ITERATIONS REACHED LIMIT.\n",
      "\n",
      "Increase the number of iterations (max_iter) or scale the data as shown in:\n",
      "    https://scikit-learn.org/stable/modules/preprocessing.html\n",
      "Please also refer to the documentation for alternative solver options:\n",
      "    https://scikit-learn.org/stable/modules/linear_model.html#logistic-regression\n",
      "  n_iter_i = _check_optimize_result(\n",
      "/Users/psaxena/Library/Python/3.8/lib/python/site-packages/sklearn/linear_model/_logistic.py:763: ConvergenceWarning: lbfgs failed to converge (status=1):\n",
      "STOP: TOTAL NO. of ITERATIONS REACHED LIMIT.\n",
      "\n",
      "Increase the number of iterations (max_iter) or scale the data as shown in:\n",
      "    https://scikit-learn.org/stable/modules/preprocessing.html\n",
      "Please also refer to the documentation for alternative solver options:\n",
      "    https://scikit-learn.org/stable/modules/linear_model.html#logistic-regression\n",
      "  n_iter_i = _check_optimize_result(\n",
      "/Users/psaxena/Library/Python/3.8/lib/python/site-packages/sklearn/linear_model/_logistic.py:763: ConvergenceWarning: lbfgs failed to converge (status=1):\n",
      "STOP: TOTAL NO. of ITERATIONS REACHED LIMIT.\n",
      "\n",
      "Increase the number of iterations (max_iter) or scale the data as shown in:\n",
      "    https://scikit-learn.org/stable/modules/preprocessing.html\n",
      "Please also refer to the documentation for alternative solver options:\n",
      "    https://scikit-learn.org/stable/modules/linear_model.html#logistic-regression\n",
      "  n_iter_i = _check_optimize_result(\n",
      "/Users/psaxena/Library/Python/3.8/lib/python/site-packages/sklearn/linear_model/_logistic.py:763: ConvergenceWarning: lbfgs failed to converge (status=1):\n",
      "STOP: TOTAL NO. of ITERATIONS REACHED LIMIT.\n",
      "\n",
      "Increase the number of iterations (max_iter) or scale the data as shown in:\n",
      "    https://scikit-learn.org/stable/modules/preprocessing.html\n",
      "Please also refer to the documentation for alternative solver options:\n",
      "    https://scikit-learn.org/stable/modules/linear_model.html#logistic-regression\n",
      "  n_iter_i = _check_optimize_result(\n",
      "/Users/psaxena/Library/Python/3.8/lib/python/site-packages/sklearn/linear_model/_logistic.py:763: ConvergenceWarning: lbfgs failed to converge (status=1):\n",
      "STOP: TOTAL NO. of ITERATIONS REACHED LIMIT.\n",
      "\n",
      "Increase the number of iterations (max_iter) or scale the data as shown in:\n",
      "    https://scikit-learn.org/stable/modules/preprocessing.html\n",
      "Please also refer to the documentation for alternative solver options:\n",
      "    https://scikit-learn.org/stable/modules/linear_model.html#logistic-regression\n",
      "  n_iter_i = _check_optimize_result(\n",
      "/Users/psaxena/Library/Python/3.8/lib/python/site-packages/sklearn/linear_model/_logistic.py:763: ConvergenceWarning: lbfgs failed to converge (status=1):\n",
      "STOP: TOTAL NO. of ITERATIONS REACHED LIMIT.\n",
      "\n",
      "Increase the number of iterations (max_iter) or scale the data as shown in:\n",
      "    https://scikit-learn.org/stable/modules/preprocessing.html\n",
      "Please also refer to the documentation for alternative solver options:\n",
      "    https://scikit-learn.org/stable/modules/linear_model.html#logistic-regression\n",
      "  n_iter_i = _check_optimize_result(\n",
      "/Users/psaxena/Library/Python/3.8/lib/python/site-packages/sklearn/linear_model/_logistic.py:763: ConvergenceWarning: lbfgs failed to converge (status=1):\n",
      "STOP: TOTAL NO. of ITERATIONS REACHED LIMIT.\n",
      "\n",
      "Increase the number of iterations (max_iter) or scale the data as shown in:\n",
      "    https://scikit-learn.org/stable/modules/preprocessing.html\n",
      "Please also refer to the documentation for alternative solver options:\n",
      "    https://scikit-learn.org/stable/modules/linear_model.html#logistic-regression\n",
      "  n_iter_i = _check_optimize_result(\n",
      "/Users/psaxena/Library/Python/3.8/lib/python/site-packages/sklearn/linear_model/_logistic.py:763: ConvergenceWarning: lbfgs failed to converge (status=1):\n",
      "STOP: TOTAL NO. of ITERATIONS REACHED LIMIT.\n",
      "\n",
      "Increase the number of iterations (max_iter) or scale the data as shown in:\n",
      "    https://scikit-learn.org/stable/modules/preprocessing.html\n",
      "Please also refer to the documentation for alternative solver options:\n",
      "    https://scikit-learn.org/stable/modules/linear_model.html#logistic-regression\n",
      "  n_iter_i = _check_optimize_result(\n"
     ]
    },
    {
     "name": "stderr",
     "output_type": "stream",
     "text": [
      "/Users/psaxena/Library/Python/3.8/lib/python/site-packages/sklearn/linear_model/_logistic.py:763: ConvergenceWarning: lbfgs failed to converge (status=1):\n",
      "STOP: TOTAL NO. of ITERATIONS REACHED LIMIT.\n",
      "\n",
      "Increase the number of iterations (max_iter) or scale the data as shown in:\n",
      "    https://scikit-learn.org/stable/modules/preprocessing.html\n",
      "Please also refer to the documentation for alternative solver options:\n",
      "    https://scikit-learn.org/stable/modules/linear_model.html#logistic-regression\n",
      "  n_iter_i = _check_optimize_result(\n",
      "/Users/psaxena/Library/Python/3.8/lib/python/site-packages/sklearn/linear_model/_logistic.py:763: ConvergenceWarning: lbfgs failed to converge (status=1):\n",
      "STOP: TOTAL NO. of ITERATIONS REACHED LIMIT.\n",
      "\n",
      "Increase the number of iterations (max_iter) or scale the data as shown in:\n",
      "    https://scikit-learn.org/stable/modules/preprocessing.html\n",
      "Please also refer to the documentation for alternative solver options:\n",
      "    https://scikit-learn.org/stable/modules/linear_model.html#logistic-regression\n",
      "  n_iter_i = _check_optimize_result(\n",
      "/Users/psaxena/Library/Python/3.8/lib/python/site-packages/sklearn/linear_model/_logistic.py:763: ConvergenceWarning: lbfgs failed to converge (status=1):\n",
      "STOP: TOTAL NO. of ITERATIONS REACHED LIMIT.\n",
      "\n",
      "Increase the number of iterations (max_iter) or scale the data as shown in:\n",
      "    https://scikit-learn.org/stable/modules/preprocessing.html\n",
      "Please also refer to the documentation for alternative solver options:\n",
      "    https://scikit-learn.org/stable/modules/linear_model.html#logistic-regression\n",
      "  n_iter_i = _check_optimize_result(\n",
      "/Users/psaxena/Library/Python/3.8/lib/python/site-packages/sklearn/linear_model/_logistic.py:763: ConvergenceWarning: lbfgs failed to converge (status=1):\n",
      "STOP: TOTAL NO. of ITERATIONS REACHED LIMIT.\n",
      "\n",
      "Increase the number of iterations (max_iter) or scale the data as shown in:\n",
      "    https://scikit-learn.org/stable/modules/preprocessing.html\n",
      "Please also refer to the documentation for alternative solver options:\n",
      "    https://scikit-learn.org/stable/modules/linear_model.html#logistic-regression\n",
      "  n_iter_i = _check_optimize_result(\n"
     ]
    },
    {
     "name": "stdout",
     "output_type": "stream",
     "text": [
      "Logistic Regression\n",
      "confusion matrix: \n",
      " [[ 16204   9561]\n",
      " [  2947 166297]]\n"
     ]
    },
    {
     "data": {
      "image/png": "[encoded data removed]",
      "text/plain": [
       "<Figure size 432x288 with 2 Axes>"
      ]
     },
     "metadata": {
      "needs_background": "light"
     },
     "output_type": "display_data"
    },
    {
     "name": "stdout",
     "output_type": "stream",
     "text": [
      "\n"
     ]
    },
    {
     "name": "stderr",
     "output_type": "stream",
     "text": [
      "/Users/psaxena/Library/Python/3.8/lib/python/site-packages/sklearn/linear_model/_logistic.py:763: ConvergenceWarning: lbfgs failed to converge (status=1):\n",
      "STOP: TOTAL NO. of ITERATIONS REACHED LIMIT.\n",
      "\n",
      "Increase the number of iterations (max_iter) or scale the data as shown in:\n",
      "    https://scikit-learn.org/stable/modules/preprocessing.html\n",
      "Please also refer to the documentation for alternative solver options:\n",
      "    https://scikit-learn.org/stable/modules/linear_model.html#logistic-regression\n",
      "  n_iter_i = _check_optimize_result(\n",
      "/Users/psaxena/Library/Python/3.8/lib/python/site-packages/sklearn/linear_model/_logistic.py:763: ConvergenceWarning: lbfgs failed to converge (status=1):\n",
      "STOP: TOTAL NO. of ITERATIONS REACHED LIMIT.\n",
      "\n",
      "Increase the number of iterations (max_iter) or scale the data as shown in:\n",
      "    https://scikit-learn.org/stable/modules/preprocessing.html\n",
      "Please also refer to the documentation for alternative solver options:\n",
      "    https://scikit-learn.org/stable/modules/linear_model.html#logistic-regression\n",
      "  n_iter_i = _check_optimize_result(\n",
      "/Users/psaxena/Library/Python/3.8/lib/python/site-packages/sklearn/linear_model/_logistic.py:763: ConvergenceWarning: lbfgs failed to converge (status=1):\n",
      "STOP: TOTAL NO. of ITERATIONS REACHED LIMIT.\n",
      "\n",
      "Increase the number of iterations (max_iter) or scale the data as shown in:\n",
      "    https://scikit-learn.org/stable/modules/preprocessing.html\n",
      "Please also refer to the documentation for alternative solver options:\n",
      "    https://scikit-learn.org/stable/modules/linear_model.html#logistic-regression\n",
      "  n_iter_i = _check_optimize_result(\n",
      "/Users/psaxena/Library/Python/3.8/lib/python/site-packages/sklearn/linear_model/_logistic.py:763: ConvergenceWarning: lbfgs failed to converge (status=1):\n",
      "STOP: TOTAL NO. of ITERATIONS REACHED LIMIT.\n",
      "\n",
      "Increase the number of iterations (max_iter) or scale the data as shown in:\n",
      "    https://scikit-learn.org/stable/modules/preprocessing.html\n",
      "Please also refer to the documentation for alternative solver options:\n",
      "    https://scikit-learn.org/stable/modules/linear_model.html#logistic-regression\n",
      "  n_iter_i = _check_optimize_result(\n",
      "/Users/psaxena/Library/Python/3.8/lib/python/site-packages/sklearn/linear_model/_logistic.py:763: ConvergenceWarning: lbfgs failed to converge (status=1):\n",
      "STOP: TOTAL NO. of ITERATIONS REACHED LIMIT.\n",
      "\n",
      "Increase the number of iterations (max_iter) or scale the data as shown in:\n",
      "    https://scikit-learn.org/stable/modules/preprocessing.html\n",
      "Please also refer to the documentation for alternative solver options:\n",
      "    https://scikit-learn.org/stable/modules/linear_model.html#logistic-regression\n",
      "  n_iter_i = _check_optimize_result(\n",
      "/Users/psaxena/Library/Python/3.8/lib/python/site-packages/sklearn/linear_model/_logistic.py:763: ConvergenceWarning: lbfgs failed to converge (status=1):\n",
      "STOP: TOTAL NO. of ITERATIONS REACHED LIMIT.\n",
      "\n",
      "Increase the number of iterations (max_iter) or scale the data as shown in:\n",
      "    https://scikit-learn.org/stable/modules/preprocessing.html\n",
      "Please also refer to the documentation for alternative solver options:\n",
      "    https://scikit-learn.org/stable/modules/linear_model.html#logistic-regression\n",
      "  n_iter_i = _check_optimize_result(\n",
      "/Users/psaxena/Library/Python/3.8/lib/python/site-packages/sklearn/linear_model/_logistic.py:763: ConvergenceWarning: lbfgs failed to converge (status=1):\n",
      "STOP: TOTAL NO. of ITERATIONS REACHED LIMIT.\n",
      "\n",
      "Increase the number of iterations (max_iter) or scale the data as shown in:\n",
      "    https://scikit-learn.org/stable/modules/preprocessing.html\n",
      "Please also refer to the documentation for alternative solver options:\n",
      "    https://scikit-learn.org/stable/modules/linear_model.html#logistic-regression\n",
      "  n_iter_i = _check_optimize_result(\n",
      "/Users/psaxena/Library/Python/3.8/lib/python/site-packages/sklearn/linear_model/_logistic.py:763: ConvergenceWarning: lbfgs failed to converge (status=1):\n",
      "STOP: TOTAL NO. of ITERATIONS REACHED LIMIT.\n",
      "\n",
      "Increase the number of iterations (max_iter) or scale the data as shown in:\n",
      "    https://scikit-learn.org/stable/modules/preprocessing.html\n",
      "Please also refer to the documentation for alternative solver options:\n",
      "    https://scikit-learn.org/stable/modules/linear_model.html#logistic-regression\n",
      "  n_iter_i = _check_optimize_result(\n",
      "/Users/psaxena/Library/Python/3.8/lib/python/site-packages/sklearn/linear_model/_logistic.py:763: ConvergenceWarning: lbfgs failed to converge (status=1):\n",
      "STOP: TOTAL NO. of ITERATIONS REACHED LIMIT.\n",
      "\n",
      "Increase the number of iterations (max_iter) or scale the data as shown in:\n",
      "    https://scikit-learn.org/stable/modules/preprocessing.html\n",
      "Please also refer to the documentation for alternative solver options:\n",
      "    https://scikit-learn.org/stable/modules/linear_model.html#logistic-regression\n",
      "  n_iter_i = _check_optimize_result(\n",
      "/Users/psaxena/Library/Python/3.8/lib/python/site-packages/sklearn/linear_model/_logistic.py:763: ConvergenceWarning: lbfgs failed to converge (status=1):\n",
      "STOP: TOTAL NO. of ITERATIONS REACHED LIMIT.\n",
      "\n",
      "Increase the number of iterations (max_iter) or scale the data as shown in:\n",
      "    https://scikit-learn.org/stable/modules/preprocessing.html\n",
      "Please also refer to the documentation for alternative solver options:\n",
      "    https://scikit-learn.org/stable/modules/linear_model.html#logistic-regression\n",
      "  n_iter_i = _check_optimize_result(\n",
      "/Users/psaxena/Library/Python/3.8/lib/python/site-packages/sklearn/linear_model/_logistic.py:763: ConvergenceWarning: lbfgs failed to converge (status=1):\n",
      "STOP: TOTAL NO. of ITERATIONS REACHED LIMIT.\n",
      "\n",
      "Increase the number of iterations (max_iter) or scale the data as shown in:\n",
      "    https://scikit-learn.org/stable/modules/preprocessing.html\n",
      "Please also refer to the documentation for alternative solver options:\n",
      "    https://scikit-learn.org/stable/modules/linear_model.html#logistic-regression\n",
      "  n_iter_i = _check_optimize_result(\n",
      "/Users/psaxena/Library/Python/3.8/lib/python/site-packages/sklearn/linear_model/_logistic.py:763: ConvergenceWarning: lbfgs failed to converge (status=1):\n",
      "STOP: TOTAL NO. of ITERATIONS REACHED LIMIT.\n",
      "\n",
      "Increase the number of iterations (max_iter) or scale the data as shown in:\n",
      "    https://scikit-learn.org/stable/modules/preprocessing.html\n",
      "Please also refer to the documentation for alternative solver options:\n",
      "    https://scikit-learn.org/stable/modules/linear_model.html#logistic-regression\n",
      "  n_iter_i = _check_optimize_result(\n",
      "/Users/psaxena/Library/Python/3.8/lib/python/site-packages/sklearn/linear_model/_logistic.py:763: ConvergenceWarning: lbfgs failed to converge (status=1):\n",
      "STOP: TOTAL NO. of ITERATIONS REACHED LIMIT.\n",
      "\n",
      "Increase the number of iterations (max_iter) or scale the data as shown in:\n",
      "    https://scikit-learn.org/stable/modules/preprocessing.html\n",
      "Please also refer to the documentation for alternative solver options:\n",
      "    https://scikit-learn.org/stable/modules/linear_model.html#logistic-regression\n",
      "  n_iter_i = _check_optimize_result(\n",
      "/Users/psaxena/Library/Python/3.8/lib/python/site-packages/sklearn/linear_model/_logistic.py:763: ConvergenceWarning: lbfgs failed to converge (status=1):\n",
      "STOP: TOTAL NO. of ITERATIONS REACHED LIMIT.\n",
      "\n",
      "Increase the number of iterations (max_iter) or scale the data as shown in:\n",
      "    https://scikit-learn.org/stable/modules/preprocessing.html\n",
      "Please also refer to the documentation for alternative solver options:\n",
      "    https://scikit-learn.org/stable/modules/linear_model.html#logistic-regression\n",
      "  n_iter_i = _check_optimize_result(\n",
      "/Users/psaxena/Library/Python/3.8/lib/python/site-packages/sklearn/linear_model/_logistic.py:763: ConvergenceWarning: lbfgs failed to converge (status=1):\n",
      "STOP: TOTAL NO. of ITERATIONS REACHED LIMIT.\n",
      "\n",
      "Increase the number of iterations (max_iter) or scale the data as shown in:\n",
      "    https://scikit-learn.org/stable/modules/preprocessing.html\n",
      "Please also refer to the documentation for alternative solver options:\n",
      "    https://scikit-learn.org/stable/modules/linear_model.html#logistic-regression\n",
      "  n_iter_i = _check_optimize_result(\n",
      "/Users/psaxena/Library/Python/3.8/lib/python/site-packages/sklearn/linear_model/_logistic.py:763: ConvergenceWarning: lbfgs failed to converge (status=1):\n",
      "STOP: TOTAL NO. of ITERATIONS REACHED LIMIT.\n",
      "\n",
      "Increase the number of iterations (max_iter) or scale the data as shown in:\n",
      "    https://scikit-learn.org/stable/modules/preprocessing.html\n",
      "Please also refer to the documentation for alternative solver options:\n",
      "    https://scikit-learn.org/stable/modules/linear_model.html#logistic-regression\n",
      "  n_iter_i = _check_optimize_result(\n",
      "/Users/psaxena/Library/Python/3.8/lib/python/site-packages/sklearn/linear_model/_logistic.py:763: ConvergenceWarning: lbfgs failed to converge (status=1):\n",
      "STOP: TOTAL NO. of ITERATIONS REACHED LIMIT.\n",
      "\n",
      "Increase the number of iterations (max_iter) or scale the data as shown in:\n",
      "    https://scikit-learn.org/stable/modules/preprocessing.html\n",
      "Please also refer to the documentation for alternative solver options:\n",
      "    https://scikit-learn.org/stable/modules/linear_model.html#logistic-regression\n",
      "  n_iter_i = _check_optimize_result(\n",
      "/Users/psaxena/Library/Python/3.8/lib/python/site-packages/sklearn/linear_model/_logistic.py:763: ConvergenceWarning: lbfgs failed to converge (status=1):\n",
      "STOP: TOTAL NO. of ITERATIONS REACHED LIMIT.\n",
      "\n",
      "Increase the number of iterations (max_iter) or scale the data as shown in:\n",
      "    https://scikit-learn.org/stable/modules/preprocessing.html\n",
      "Please also refer to the documentation for alternative solver options:\n",
      "    https://scikit-learn.org/stable/modules/linear_model.html#logistic-regression\n",
      "  n_iter_i = _check_optimize_result(\n",
      "/Users/psaxena/Library/Python/3.8/lib/python/site-packages/sklearn/linear_model/_logistic.py:763: ConvergenceWarning: lbfgs failed to converge (status=1):\n",
      "STOP: TOTAL NO. of ITERATIONS REACHED LIMIT.\n",
      "\n",
      "Increase the number of iterations (max_iter) or scale the data as shown in:\n",
      "    https://scikit-learn.org/stable/modules/preprocessing.html\n",
      "Please also refer to the documentation for alternative solver options:\n",
      "    https://scikit-learn.org/stable/modules/linear_model.html#logistic-regression\n",
      "  n_iter_i = _check_optimize_result(\n",
      "/Users/psaxena/Library/Python/3.8/lib/python/site-packages/sklearn/linear_model/_logistic.py:763: ConvergenceWarning: lbfgs failed to converge (status=1):\n",
      "STOP: TOTAL NO. of ITERATIONS REACHED LIMIT.\n",
      "\n",
      "Increase the number of iterations (max_iter) or scale the data as shown in:\n",
      "    https://scikit-learn.org/stable/modules/preprocessing.html\n",
      "Please also refer to the documentation for alternative solver options:\n",
      "    https://scikit-learn.org/stable/modules/linear_model.html#logistic-regression\n",
      "  n_iter_i = _check_optimize_result(\n",
      "/Users/psaxena/Library/Python/3.8/lib/python/site-packages/sklearn/linear_model/_logistic.py:763: ConvergenceWarning: lbfgs failed to converge (status=1):\n",
      "STOP: TOTAL NO. of ITERATIONS REACHED LIMIT.\n",
      "\n",
      "Increase the number of iterations (max_iter) or scale the data as shown in:\n",
      "    https://scikit-learn.org/stable/modules/preprocessing.html\n",
      "Please also refer to the documentation for alternative solver options:\n",
      "    https://scikit-learn.org/stable/modules/linear_model.html#logistic-regression\n",
      "  n_iter_i = _check_optimize_result(\n",
      "/Users/psaxena/Library/Python/3.8/lib/python/site-packages/sklearn/linear_model/_logistic.py:763: ConvergenceWarning: lbfgs failed to converge (status=1):\n",
      "STOP: TOTAL NO. of ITERATIONS REACHED LIMIT.\n",
      "\n",
      "Increase the number of iterations (max_iter) or scale the data as shown in:\n",
      "    https://scikit-learn.org/stable/modules/preprocessing.html\n",
      "Please also refer to the documentation for alternative solver options:\n",
      "    https://scikit-learn.org/stable/modules/linear_model.html#logistic-regression\n",
      "  n_iter_i = _check_optimize_result(\n",
      "/Users/psaxena/Library/Python/3.8/lib/python/site-packages/sklearn/linear_model/_logistic.py:763: ConvergenceWarning: lbfgs failed to converge (status=1):\n",
      "STOP: TOTAL NO. of ITERATIONS REACHED LIMIT.\n",
      "\n",
      "Increase the number of iterations (max_iter) or scale the data as shown in:\n",
      "    https://scikit-learn.org/stable/modules/preprocessing.html\n",
      "Please also refer to the documentation for alternative solver options:\n",
      "    https://scikit-learn.org/stable/modules/linear_model.html#logistic-regression\n",
      "  n_iter_i = _check_optimize_result(\n",
      "/Users/psaxena/Library/Python/3.8/lib/python/site-packages/sklearn/linear_model/_logistic.py:763: ConvergenceWarning: lbfgs failed to converge (status=1):\n",
      "STOP: TOTAL NO. of ITERATIONS REACHED LIMIT.\n",
      "\n",
      "Increase the number of iterations (max_iter) or scale the data as shown in:\n",
      "    https://scikit-learn.org/stable/modules/preprocessing.html\n",
      "Please also refer to the documentation for alternative solver options:\n",
      "    https://scikit-learn.org/stable/modules/linear_model.html#logistic-regression\n",
      "  n_iter_i = _check_optimize_result(\n",
      "/Users/psaxena/Library/Python/3.8/lib/python/site-packages/sklearn/linear_model/_logistic.py:763: ConvergenceWarning: lbfgs failed to converge (status=1):\n",
      "STOP: TOTAL NO. of ITERATIONS REACHED LIMIT.\n",
      "\n",
      "Increase the number of iterations (max_iter) or scale the data as shown in:\n",
      "    https://scikit-learn.org/stable/modules/preprocessing.html\n",
      "Please also refer to the documentation for alternative solver options:\n",
      "    https://scikit-learn.org/stable/modules/linear_model.html#logistic-regression\n",
      "  n_iter_i = _check_optimize_result(\n",
      "/Users/psaxena/Library/Python/3.8/lib/python/site-packages/sklearn/linear_model/_logistic.py:763: ConvergenceWarning: lbfgs failed to converge (status=1):\n",
      "STOP: TOTAL NO. of ITERATIONS REACHED LIMIT.\n",
      "\n",
      "Increase the number of iterations (max_iter) or scale the data as shown in:\n",
      "    https://scikit-learn.org/stable/modules/preprocessing.html\n",
      "Please also refer to the documentation for alternative solver options:\n",
      "    https://scikit-learn.org/stable/modules/linear_model.html#logistic-regression\n",
      "  n_iter_i = _check_optimize_result(\n",
      "/Users/psaxena/Library/Python/3.8/lib/python/site-packages/sklearn/linear_model/_logistic.py:763: ConvergenceWarning: lbfgs failed to converge (status=1):\n",
      "STOP: TOTAL NO. of ITERATIONS REACHED LIMIT.\n",
      "\n",
      "Increase the number of iterations (max_iter) or scale the data as shown in:\n",
      "    https://scikit-learn.org/stable/modules/preprocessing.html\n",
      "Please also refer to the documentation for alternative solver options:\n",
      "    https://scikit-learn.org/stable/modules/linear_model.html#logistic-regression\n",
      "  n_iter_i = _check_optimize_result(\n",
      "/Users/psaxena/Library/Python/3.8/lib/python/site-packages/sklearn/linear_model/_logistic.py:763: ConvergenceWarning: lbfgs failed to converge (status=1):\n",
      "STOP: TOTAL NO. of ITERATIONS REACHED LIMIT.\n",
      "\n",
      "Increase the number of iterations (max_iter) or scale the data as shown in:\n",
      "    https://scikit-learn.org/stable/modules/preprocessing.html\n",
      "Please also refer to the documentation for alternative solver options:\n",
      "    https://scikit-learn.org/stable/modules/linear_model.html#logistic-regression\n",
      "  n_iter_i = _check_optimize_result(\n",
      "/Users/psaxena/Library/Python/3.8/lib/python/site-packages/sklearn/linear_model/_logistic.py:763: ConvergenceWarning: lbfgs failed to converge (status=1):\n",
      "STOP: TOTAL NO. of ITERATIONS REACHED LIMIT.\n",
      "\n",
      "Increase the number of iterations (max_iter) or scale the data as shown in:\n",
      "    https://scikit-learn.org/stable/modules/preprocessing.html\n",
      "Please also refer to the documentation for alternative solver options:\n",
      "    https://scikit-learn.org/stable/modules/linear_model.html#logistic-regression\n",
      "  n_iter_i = _check_optimize_result(\n",
      "/Users/psaxena/Library/Python/3.8/lib/python/site-packages/sklearn/linear_model/_logistic.py:763: ConvergenceWarning: lbfgs failed to converge (status=1):\n",
      "STOP: TOTAL NO. of ITERATIONS REACHED LIMIT.\n",
      "\n",
      "Increase the number of iterations (max_iter) or scale the data as shown in:\n",
      "    https://scikit-learn.org/stable/modules/preprocessing.html\n",
      "Please also refer to the documentation for alternative solver options:\n",
      "    https://scikit-learn.org/stable/modules/linear_model.html#logistic-regression\n",
      "  n_iter_i = _check_optimize_result(\n",
      "/Users/psaxena/Library/Python/3.8/lib/python/site-packages/sklearn/linear_model/_logistic.py:763: ConvergenceWarning: lbfgs failed to converge (status=1):\n",
      "STOP: TOTAL NO. of ITERATIONS REACHED LIMIT.\n",
      "\n",
      "Increase the number of iterations (max_iter) or scale the data as shown in:\n",
      "    https://scikit-learn.org/stable/modules/preprocessing.html\n",
      "Please also refer to the documentation for alternative solver options:\n",
      "    https://scikit-learn.org/stable/modules/linear_model.html#logistic-regression\n",
      "  n_iter_i = _check_optimize_result(\n",
      "/Users/psaxena/Library/Python/3.8/lib/python/site-packages/sklearn/linear_model/_logistic.py:763: ConvergenceWarning: lbfgs failed to converge (status=1):\n",
      "STOP: TOTAL NO. of ITERATIONS REACHED LIMIT.\n",
      "\n",
      "Increase the number of iterations (max_iter) or scale the data as shown in:\n",
      "    https://scikit-learn.org/stable/modules/preprocessing.html\n",
      "Please also refer to the documentation for alternative solver options:\n",
      "    https://scikit-learn.org/stable/modules/linear_model.html#logistic-regression\n",
      "  n_iter_i = _check_optimize_result(\n",
      "/Users/psaxena/Library/Python/3.8/lib/python/site-packages/sklearn/linear_model/_logistic.py:763: ConvergenceWarning: lbfgs failed to converge (status=1):\n",
      "STOP: TOTAL NO. of ITERATIONS REACHED LIMIT.\n",
      "\n",
      "Increase the number of iterations (max_iter) or scale the data as shown in:\n",
      "    https://scikit-learn.org/stable/modules/preprocessing.html\n",
      "Please also refer to the documentation for alternative solver options:\n",
      "    https://scikit-learn.org/stable/modules/linear_model.html#logistic-regression\n",
      "  n_iter_i = _check_optimize_result(\n",
      "/Users/psaxena/Library/Python/3.8/lib/python/site-packages/sklearn/linear_model/_logistic.py:763: ConvergenceWarning: lbfgs failed to converge (status=1):\n",
      "STOP: TOTAL NO. of ITERATIONS REACHED LIMIT.\n",
      "\n",
      "Increase the number of iterations (max_iter) or scale the data as shown in:\n",
      "    https://scikit-learn.org/stable/modules/preprocessing.html\n",
      "Please also refer to the documentation for alternative solver options:\n",
      "    https://scikit-learn.org/stable/modules/linear_model.html#logistic-regression\n",
      "  n_iter_i = _check_optimize_result(\n",
      "/Users/psaxena/Library/Python/3.8/lib/python/site-packages/sklearn/linear_model/_logistic.py:763: ConvergenceWarning: lbfgs failed to converge (status=1):\n",
      "STOP: TOTAL NO. of ITERATIONS REACHED LIMIT.\n",
      "\n",
      "Increase the number of iterations (max_iter) or scale the data as shown in:\n",
      "    https://scikit-learn.org/stable/modules/preprocessing.html\n",
      "Please also refer to the documentation for alternative solver options:\n",
      "    https://scikit-learn.org/stable/modules/linear_model.html#logistic-regression\n",
      "  n_iter_i = _check_optimize_result(\n",
      "/Users/psaxena/Library/Python/3.8/lib/python/site-packages/sklearn/linear_model/_logistic.py:763: ConvergenceWarning: lbfgs failed to converge (status=1):\n",
      "STOP: TOTAL NO. of ITERATIONS REACHED LIMIT.\n",
      "\n",
      "Increase the number of iterations (max_iter) or scale the data as shown in:\n",
      "    https://scikit-learn.org/stable/modules/preprocessing.html\n",
      "Please also refer to the documentation for alternative solver options:\n",
      "    https://scikit-learn.org/stable/modules/linear_model.html#logistic-regression\n",
      "  n_iter_i = _check_optimize_result(\n"
     ]
    },
    {
     "name": "stderr",
     "output_type": "stream",
     "text": [
      "/Users/psaxena/Library/Python/3.8/lib/python/site-packages/sklearn/linear_model/_logistic.py:763: ConvergenceWarning: lbfgs failed to converge (status=1):\n",
      "STOP: TOTAL NO. of ITERATIONS REACHED LIMIT.\n",
      "\n",
      "Increase the number of iterations (max_iter) or scale the data as shown in:\n",
      "    https://scikit-learn.org/stable/modules/preprocessing.html\n",
      "Please also refer to the documentation for alternative solver options:\n",
      "    https://scikit-learn.org/stable/modules/linear_model.html#logistic-regression\n",
      "  n_iter_i = _check_optimize_result(\n",
      "/Users/psaxena/Library/Python/3.8/lib/python/site-packages/sklearn/linear_model/_logistic.py:763: ConvergenceWarning: lbfgs failed to converge (status=1):\n",
      "STOP: TOTAL NO. of ITERATIONS REACHED LIMIT.\n",
      "\n",
      "Increase the number of iterations (max_iter) or scale the data as shown in:\n",
      "    https://scikit-learn.org/stable/modules/preprocessing.html\n",
      "Please also refer to the documentation for alternative solver options:\n",
      "    https://scikit-learn.org/stable/modules/linear_model.html#logistic-regression\n",
      "  n_iter_i = _check_optimize_result(\n",
      "/Users/psaxena/Library/Python/3.8/lib/python/site-packages/sklearn/linear_model/_logistic.py:763: ConvergenceWarning: lbfgs failed to converge (status=1):\n",
      "STOP: TOTAL NO. of ITERATIONS REACHED LIMIT.\n",
      "\n",
      "Increase the number of iterations (max_iter) or scale the data as shown in:\n",
      "    https://scikit-learn.org/stable/modules/preprocessing.html\n",
      "Please also refer to the documentation for alternative solver options:\n",
      "    https://scikit-learn.org/stable/modules/linear_model.html#logistic-regression\n",
      "  n_iter_i = _check_optimize_result(\n",
      "/Users/psaxena/Library/Python/3.8/lib/python/site-packages/sklearn/linear_model/_logistic.py:763: ConvergenceWarning: lbfgs failed to converge (status=1):\n",
      "STOP: TOTAL NO. of ITERATIONS REACHED LIMIT.\n",
      "\n",
      "Increase the number of iterations (max_iter) or scale the data as shown in:\n",
      "    https://scikit-learn.org/stable/modules/preprocessing.html\n",
      "Please also refer to the documentation for alternative solver options:\n",
      "    https://scikit-learn.org/stable/modules/linear_model.html#logistic-regression\n",
      "  n_iter_i = _check_optimize_result(\n"
     ]
    },
    {
     "name": "stdout",
     "output_type": "stream",
     "text": [
      "Decision Tree\n",
      "confusion matrix: \n",
      " [[ 17217   8548]\n",
      " [  9812 159432]]\n"
     ]
    },
    {
     "data": {
      "image/png": "[encoded data removed]",
      "text/plain": [
       "<Figure size 432x288 with 2 Axes>"
      ]
     },
     "metadata": {
      "needs_background": "light"
     },
     "output_type": "display_data"
    },
    {
     "name": "stdout",
     "output_type": "stream",
     "text": [
      "\n"
     ]
    }
   ],
   "source": [
    "# Defining models\n",
    "models = [LogisticRegression(random_state=0), DecisionTreeClassifier(random_state=0), RandomForestClassifier(random_state=0), GradientBoostingClassifier(random_state=0), XGBClassifier(random_state=0)]\n",
    "names = [\"Logistic Regression\", \"Decision Tree\", \"Random Forest\", \"Gradient Boosting\", \"XGBoost\"]\n",
    "\n",
    "results_dt = []\n",
    "cv = RepeatedStratifiedKFold(n_splits=10, n_repeats=4, random_state=123) \n",
    "acc = []\n",
    "auc = []\n",
    "\n",
    "# Getting scores for the different models\n",
    "for model, name in zip(models, names):\n",
    "  model = model.fit(X_train, y_train)\n",
    "  pred = model.predict(X_val)\n",
    "  \n",
    "  cv_results = cross_val_score(model, X_train, y_train, cv=cv, scoring=\"roc_auc\") \n",
    "  results_dt.append(cv_results)\n",
    "\n",
    "  acc.append(cross_val_score(model, X_train, y_train, scoring=\"accuracy\", cv=cv, n_jobs=-1).mean())\n",
    "  auc.append(cross_val_score(model, X_train, y_train, scoring=\"roc_auc\", cv=cv, n_jobs=-1).mean()) \n",
    "\n",
    "  print(name)\n",
    "  print(\"confusion matrix: \\n\", metrics.confusion_matrix(y_val, pred)) \n",
    "  \n",
    "  #Plotting classification report\n",
    "  clf_report = classification_report(y_val, pred, output_dict=True)\n",
    "  plt.figure()\n",
    "  plt.title(name)\n",
    "  sns.heatmap(pd.DataFrame(clf_report).iloc[:-1, :-3].T, annot=True)\n",
    "  plt.show()\n",
    "\n",
    "  print()     "
   ]
  },
  {
   "cell_type": "code",
   "execution_count": null,
   "id": "31c3e240",
   "metadata": {},
   "outputs": [],
   "source": [
    "from sklearn.metrics import log_loss\n",
    "# initializing all the model objects with default parameters\n",
    "model_1 = LogisticRegression()\n",
    "model_2 = RandomForestClassifier()\n",
    "model_3 = XGBClassifier()\n",
    "\n",
    " \n",
    "# Making the final model using voting classifier\n",
    "ensemble_model = VotingClassifier(estimators=[('lr', model_1), ('rf', model_2), ('xgb', model_3) ], \n",
    "                                  voting='hard')\n",
    " \n",
    "# training all the model on the train dataset\n",
    "ensemble_model.fit(X_train, y_train)\n",
    " \n",
    "# predicting the output on the test dataset\n",
    "pred_ensemble = ensemble_model.predict(X_val)\n",
    "\n",
    "# printing log loss between actual and predicted value\n",
    "print(log_loss(y_test, pred_ensemble))"
   ]
  },
  {
   "cell_type": "code",
   "execution_count": null,
   "id": "2f1a9f97",
   "metadata": {},
   "outputs": [],
   "source": [
    "### Ensembling\n",
    "\n",
    "# Different evaluation metrics\n",
    "print(\"\\n AUC-ROC:\", metrics.roc_auc_score(y_val, pred_ensemble)) #AUC-ROC\n",
    "print(\"\\n confusion matrix: \\n\", metrics.plot_confusion_matrix(ensemble_model, X_val, y_val)) \n",
    "print()\n",
    "\n",
    "# Plotting classification report\n",
    "clf_report_emsemble = classification_report(y_val, pred_ensemble, output_dict=True)\n",
    "plt.figure()\n",
    "\n",
    "plt.title(\"Emsembling\")\n",
    "sns.heatmap(pd.DataFrame(clf_report_emsemble).iloc[:-1, :-3].T, annot=True) # retains only precision, recall, F1 score for both classes\n",
    "plt.show()"
   ]
  },
  {
   "cell_type": "code",
   "execution_count": null,
   "id": "20609f05",
   "metadata": {},
   "outputs": [],
   "source": [
    "# Accuracy and AUC-ROC Scores\n",
    "scores = pd.DataFrame(list(zip(names, acc, auc)), columns =[\"Algorithm\", \"Accuracy Score\", \"AUC-ROC Score\"]) \n",
    "print(scores)\n",
    "\n",
    "# Plotting AUC-ROC\n",
    "fig = plt.figure()\n",
    "fig.suptitle('Algorithm Comparison')\n",
    "ax = fig.add_subplot(111)\n",
    "plt.boxplot(results_dt)\n",
    "plt.xlabel('Algorithm')\n",
    "plt.ylabel('AUC-ROC')\n",
    "ax.set_xticklabels(names)\n",
    "plt.xticks(rotation=45)\n",
    "plt.show()"
   ]
  },
  {
   "cell_type": "code",
   "execution_count": null,
   "id": "1cc99982",
   "metadata": {},
   "outputs": [],
   "source": [
    "from numpy import sqrt \n",
    "\n",
    "## Calculating sample weight for XGBoost\n",
    "scale_pos_weight_sqrt = sqrt(len(df_bike[df_bike['usertype'] == 'Subscriber'])/len(df_bike[df_bike['usertype'] == 'Customer']))\n"
   ]
  },
  {
   "cell_type": "code",
   "execution_count": null,
   "id": "96f02a2a",
   "metadata": {},
   "outputs": [],
   "source": [
    "# Adding class weight parameter\n",
    "models_balanced = [DecisionTreeClassifier(random_state=0, class_weight = \"balanced\"), RandomForestClassifier(random_state=0, class_weight=\"balanced_subsample\"), XGBClassifier(random_state=0, scale_pos_weight = scale_pos_weight_sqrt)]\n",
    "\n",
    "names_balanced = [\"Random Forest balance\", \"Logistic Regression balanced\", \"XGBoost balance\"]\n",
    "results_dt_balance = []\n",
    "cv = RepeatedStratifiedKFold(n_splits=10, n_repeats=3, random_state=0) \n",
    "acc_balance = []\n",
    "auc_balance = []\n",
    "\n",
    "# Getting scores for the different models\n",
    "for model, name in zip(models_balanced, names_balanced):\n",
    "  models_balanced = model.fit(X_train, y_train)\n",
    "  pred = model.predict(X_val)\n",
    "  \n",
    "  cv_results = cross_val_score(model, X_train, y_train, cv=cv, scoring=\"roc_auc\") \n",
    "  results_dt_balance.append(cv_results)\n",
    "\n",
    "  acc_balance.append(cross_val_score(model, X_train, y_train, scoring=\"accuracy\", cv=cv, n_jobs=-1).mean())\n",
    "  auc_balance.append(cross_val_score(model, X_train, y_train, scoring=\"roc_auc\", cv=cv, n_jobs=-1).mean()) \n",
    "\n",
    "  print(name)\n",
    "  print(\"confusion matrix: \\n\", metrics.confusion_matrix(y_val, pred)) \n",
    "  \n",
    "  \n",
    "  #Plotting classification report\n",
    "  clf_report = classification_report(y_val, pred, output_dict=True)\n",
    "  plt.figure()\n",
    "  plt.title(name)\n",
    "  sns.heatmap(pd.DataFrame(clf_report).iloc[:-1, :-3].T, annot=True)\n",
    "  plt.show()\n",
    "\n",
    "  print()     "
   ]
  },
  {
   "cell_type": "code",
   "execution_count": null,
   "id": "db2239f5",
   "metadata": {},
   "outputs": [],
   "source": [
    "df_bike = df_bike.reset_index()\n",
    "# Undersampling\n",
    "from sklearn.utils import resample\n",
    "majority = df_bike[df_bike.usertype==\"Subscriber\"] # Majority class\n",
    "minority = df_bike[df_bike.usertype==\"Customer\"] # Minority class\n",
    "\n",
    "print(\"minotiry is:\", df_bike[df_bike.usertype==\"Customer\"].value_counts())\n",
    "\n",
    "# Random selection without replacement\n",
    "majority_undersampled = resample(majority, replace=False, n_samples=38, random_state=0) # Randomly selects 38 records from majority to match minority class size\n",
    "\n",
    "# New downsampled dataset\n",
    "df_undersampled = pd.concat([majority_undersampled, minority])  # Minority class + sample of 38 from majority\n",
    " \n",
    "df_undersampled.usertype.value_counts()"
   ]
  },
  {
   "cell_type": "code",
   "execution_count": null,
   "id": "60817b91",
   "metadata": {},
   "outputs": [],
   "source": []
  },
  {
   "cell_type": "code",
   "execution_count": null,
   "id": "fd2fb910",
   "metadata": {},
   "outputs": [],
   "source": []
  },
  {
   "cell_type": "code",
   "execution_count": null,
   "id": "71c0df61",
   "metadata": {},
   "outputs": [],
   "source": []
  },
  {
   "cell_type": "code",
   "execution_count": null,
   "id": "e06db2f6",
   "metadata": {},
   "outputs": [],
   "source": []
  },
  {
   "cell_type": "code",
   "execution_count": null,
   "id": "6617d1b6",
   "metadata": {},
   "outputs": [],
   "source": [
    "from sklearn.ensemble import RandomForestClassifier\n",
    "from sklearn import tree\n",
    "from dtreeviz.trees import dtreeviz # will be used for tree visualization\n",
    "\n",
    "full_rf = RandomForestClassifier(random_state = 42)\n",
    "print('Parameters currently in use:\\n')\n",
    "pprint(full_rf.get_params())"
   ]
  },
  {
   "cell_type": "code",
   "execution_count": null,
   "id": "f23931cf",
   "metadata": {},
   "outputs": [],
   "source": [
    "full_rf.fit(x_train, y_train)"
   ]
  },
  {
   "cell_type": "code",
   "execution_count": null,
   "id": "30adece2",
   "metadata": {},
   "outputs": [],
   "source": [
    "plt.figure(figsize=(20,20))\n",
    "tree.plot_tree(full_rf.estimators_[0], feature_names=x_train.columns, filled=True)\n",
    "#plotDecisionTree(fulltree, feature_names=train_x.columns)"
   ]
  },
  {
   "cell_type": "code",
   "execution_count": null,
   "id": "d1ec437a",
   "metadata": {},
   "outputs": [],
   "source": [
    "plt.figure(figsize=(40,30))\n",
    "tree.plot_tree(full_rf.estimators_[3], feature_names=x_train.columns, filled=True)"
   ]
  },
  {
   "cell_type": "code",
   "execution_count": null,
   "id": "d32056bd",
   "metadata": {},
   "outputs": [],
   "source": [
    "sorted_idx = full_rf.feature_importances_.argsort()\n",
    "plt.barh(x_train.columns[sorted_idx], full_rf.feature_importances_[sorted_idx])\n",
    "plt.xlabel(\"Random Forest Feature Importance\")\n",
    "plt.ylabel(\"Feature name\")"
   ]
  },
  {
   "cell_type": "code",
   "execution_count": null,
   "id": "cbdf772e",
   "metadata": {},
   "outputs": [],
   "source": [
    "from sklearn.inspection import permutation_importance\n",
    "\n",
    "perm_importance = permutation_importance(full_rf, x_train, y_train)\n",
    "sorted_idx = perm_importance.importances_mean.argsort()\n",
    "plt.barh(x_train.columns[sorted_idx], perm_importance.importances_mean[sorted_idx])\n",
    "plt.xlabel(\"Permutation Importance on train data\")"
   ]
  },
  {
   "cell_type": "code",
   "execution_count": null,
   "id": "e52bcbe0",
   "metadata": {},
   "outputs": [],
   "source": [
    "perm_importance = permutation_importance(full_rf, x_val, y_val)\n",
    "sorted_idx = perm_importance.importances_mean.argsort()\n",
    "plt.barh(x_val.columns[sorted_idx], perm_importance.importances_mean[sorted_idx])\n",
    "plt.xlabel(\"Permutation Importance on validation\")"
   ]
  },
  {
   "cell_type": "code",
   "execution_count": null,
   "id": "7ae6c1da",
   "metadata": {},
   "outputs": [],
   "source": [
    "import shap \n",
    "explainer  = shap.TreeExplainer(full_rf) \n",
    "shap_values = explainer.shap_values(x_train) \n",
    "shap.summary_plot(shap_values, x_train, plot_type=\"bar\")"
   ]
  },
  {
   "cell_type": "code",
   "execution_count": null,
   "id": "38e233cd",
   "metadata": {},
   "outputs": [],
   "source": [
    "shap_values = explainer.shap_values(x_val) \n",
    "shap.summary_plot(shap_values, x_val, plot_type=\"bar\")"
   ]
  },
  {
   "cell_type": "code",
   "execution_count": null,
   "id": "42b00f58",
   "metadata": {},
   "outputs": [],
   "source": [
    "y_test.shape"
   ]
  },
  {
   "cell_type": "code",
   "execution_count": null,
   "id": "9dd5295d",
   "metadata": {},
   "outputs": [],
   "source": [
    "# make predictions for test data\n",
    "y_pred_test = full_rf.predict(x_test)\n",
    "predictions = [round(value) for value in y_pred]\n",
    "\n",
    "# evaluate predictions\n",
    "accuracy_rf = accuracy_score(y_test, predictions)\n",
    "print(\"Accuracy: %.2f%%\" % (accuracy * 100.0))\n",
    "\n",
    "from sklearn.metrics import confusion_matrix\n",
    "# Get and reshape confusion matrix data\n",
    "matrix = confusion_matrix(y_test, y_pred_test)\n",
    "matrix = matrix.astype('float') / matrix.sum(axis=1)[:, np.newaxis]\n",
    "\n",
    "# Build the plot\n",
    "plt.figure(figsize=(7,5))\n",
    "sns.set(font_scale=1.4)\n",
    "sns.heatmap(matrix, annot=True, annot_kws={'size':10},\n",
    "            cmap=plt.cm.Greens, linewidths=0.2)\n",
    "\n",
    "# Add labels to the plot\n",
    "class_names = ['Customer', 'Subscriber']\n",
    "tick_marks = np.arange(len(class_names))\n",
    "#tick_marks2 = tick_marks + 0.5\n",
    "plt.xticks(tick_marks, class_names, rotation=0)\n",
    "plt.yticks(tick_marks, class_names, rotation=0)\n",
    "plt.xlabel('Predicted label')\n",
    "plt.ylabel('True label')\n",
    "plt.title('Confusion Matrix for Random Forest Model \\n')\n",
    "plt.show()"
   ]
  },
  {
   "cell_type": "code",
   "execution_count": null,
   "id": "570c149a",
   "metadata": {},
   "outputs": [],
   "source": []
  },
  {
   "cell_type": "code",
   "execution_count": null,
   "id": "e7d42eac",
   "metadata": {},
   "outputs": [],
   "source": []
  },
  {
   "cell_type": "code",
   "execution_count": null,
   "id": "f8ad8bad",
   "metadata": {},
   "outputs": [],
   "source": []
  },
  {
   "cell_type": "code",
   "execution_count": null,
   "id": "392ccf72",
   "metadata": {},
   "outputs": [],
   "source": []
  },
  {
   "cell_type": "code",
   "execution_count": null,
   "id": "774914ce",
   "metadata": {},
   "outputs": [],
   "source": [
    "from sklearn.model_selection import GridSearchCV\n",
    "from sklearn.model_selection import RandomizedSearchCV\n",
    "\n",
    "# Create the parameter grid based on the results of random search \n",
    "param_grid = {\n",
    "    'bootstrap': [True],\n",
    "    'max_depth': [5,10,15,20],\n",
    "    'criterion' : ['entropy','gini'],\n",
    "    'max_features': [2, 3],\n",
    "    'min_samples_leaf': [5, 10, 15, 20],\n",
    "    'min_samples_split': [8, 10, 12],\n",
    "    'n_estimators': [100, 200, 300]\n",
    "}\n",
    "# Create a based model\n",
    "rf = RandomForestClassifier()\n",
    "\n",
    "# Instantiate the grid search model\n",
    "rf_random = RandomizedSearchCV(estimator = rf, param_distributions = param_grid, \n",
    "                               n_iter = 100, cv = 3, verbose=2, \n",
    "                               random_state=42, n_jobs = -1)\n",
    "rf_random.fit(x_train, y_train)\n",
    "\n",
    "\n",
    "#grid_search = GridSearchCV(estimator = rf, param_grid = param_grid, \n",
    "#                          cv = 3, n_jobs = -1, verbose = 2)"
   ]
  },
  {
   "cell_type": "code",
   "execution_count": null,
   "id": "f6f45e87",
   "metadata": {},
   "outputs": [],
   "source": [
    "print('Initial score: ', rf_random.best_score_)\n",
    "print('Initial parameters: ', rf_random.best_params_)"
   ]
  },
  {
   "cell_type": "markdown",
   "id": "25536cac",
   "metadata": {},
   "source": [
    "### RandomForst "
   ]
  },
  {
   "cell_type": "code",
   "execution_count": null,
   "id": "00da4294",
   "metadata": {},
   "outputs": [],
   "source": [
    "from sklearn import model_selection\n",
    "from sklearn.ensemble import RandomForestClassifier\n",
    "\n",
    "num_trees = 100\n",
    "max_features = 2\n",
    "kfold = model_selection.KFold(n_splits=10, random_state=123, shuffle=True)\n",
    "model_rf = RandomForestClassifier(n_estimators=num_trees, max_features=max_features)\n",
    "results_rf = model_selection.cross_val_score(model_rf, train.loc[:, train.columns != 'usertype'],\n",
    "                                          train['usertype'],\n",
    "                                          cv=kfold)\n",
    "print(results_rf.mean(), results_rf.std())"
   ]
  },
  {
   "cell_type": "code",
   "execution_count": null,
   "id": "53b215b1",
   "metadata": {},
   "outputs": [],
   "source": [
    "from sklearn.linear_model import LogisticRegression\n",
    "\n",
    "# evaluate a model with a given number of repeats\n",
    "def evaluate_model(X, y, repeats):\n",
    "    # prepare the cross-validation procedure\n",
    "    kfold = model_selection.KFold(n_splits=10, random_state=123, shuffle=True)\n",
    "    #cv = RepeatedKFold(n_splits=10, n_repeats=repeats, random_state=1)\n",
    "    # create model\n",
    "    model = LogisticRegression()\n",
    "    # evaluate model\n",
    "    scores = model_selection.cross_val_score(model, X, y, scoring='accuracy', cv=kfold, n_jobs=-1)\n",
    "    return scores\n",
    "\n",
    "repeats = range(1,16)\n",
    "results = list()\n",
    "for r in repeats:\n",
    "\t# evaluate using a given number of repeats\n",
    "\tscores = evaluate_model(x_train, y_train, r)\n",
    "\t# summarize\n",
    "\tprint('>%d mean=%.4f se=%.3f' % (r, scores.mean(), scores.std()))\n",
    "\t# store\n",
    "\tresults.append(scores)\n",
    "# plot the results\n",
    "plt.boxplot(results, labels=[str(r) for r in repeats], showmeans=True)\n",
    "plt.show()"
   ]
  },
  {
   "cell_type": "code",
   "execution_count": null,
   "id": "aaf89bfb",
   "metadata": {},
   "outputs": [],
   "source": [
    "plt.boxplot(results, labels=[str(r) for r in repeats], showmeans=True)\n",
    "plt.show()"
   ]
  },
  {
   "cell_type": "code",
   "execution_count": null,
   "id": "a8225800",
   "metadata": {},
   "outputs": [],
   "source": [
    "model_rf.fit(train.loc[:, train.columns != 'usertype'], train['usertype'],)\n",
    "\n",
    "from sklearn.model_selection import cross_val_score\n",
    "recall    = cross_val_score(model_rf, x_train, y_train, cv=5, scoring='recall')\n",
    "precision = cross_val_score(model_rf, x_train, y_train, cv=5, scoring='precision')\n",
    "accuracy  = cross_val_score(model_rf, x_train, y_train, cv=5, scoring='accuracy')\n",
    "f1_score  = cross_val_score(model_rf, x_train, y_train, cv=5, scoring='f1_macro')\n",
    "print(recall, '\\n', precision, '\\n', accuracy, '\\n', f1_score)"
   ]
  },
  {
   "cell_type": "code",
   "execution_count": null,
   "id": "f93d7455",
   "metadata": {},
   "outputs": [],
   "source": [
    "def mmb_evaluate_model(self):\n",
    "        \"\"\"\n",
    "        Returns scores from cross validation evaluation on the malicious / benign classifier\n",
    "        \"\"\"\n",
    "        predictive_features = self.features['predictive_features']\n",
    "        self.clf_X = self.modeldata[predictive_features].values\n",
    "        self.clf_y = np.array(self.modeldata['label'])\n",
    "\n",
    "        X_train, X_test, y_train, y_test = train_test_split(self.clf_X, self.clf_y, test_size=0.2, random_state=0)\n",
    "        lb = LabelBinarizer()\n",
    "        y_train = np.array([number[0] for number in lb.fit_transform(y_train)])\n",
    "        eval_cls = RandomForestClassifier(n_estimators=100, max_features=.2)\n",
    "        eval_cls.fit(X_train, y_train)\n",
    "\n",
    "        recall = cross_val_score(eval_cls, X_train, y_train, cv=5, scoring='recall')\n",
    "        precision = cross_val_score(eval_cls, X_train, y_train, cv=5, scoring='precision')\n",
    "        accuracy = cross_val_score(eval_cls, X_train, y_train, cv=5, scoring='accuracy')\n",
    "        f1_score = cross_val_score(eval_cls, X_train, y_train, cv=5, scoring='f1_macro')\n",
    "\n",
    "        return {'accuracy': accuracy, 'f1': f1_score, 'precision': precision, 'recall': recall} \n"
   ]
  },
  {
   "cell_type": "markdown",
   "id": "83700d03",
   "metadata": {},
   "source": [
    "### xgBoosting"
   ]
  },
  {
   "cell_type": "code",
   "execution_count": null,
   "id": "ab247ad2",
   "metadata": {},
   "outputs": [],
   "source": [
    "from sklearn import model_selection\n",
    "from sklearn.ensemble import AdaBoostClassifier\n",
    "from sklearn.metrics import accuracy_score\n",
    "\n",
    "num_trees = 30\n",
    "kfold = model_selection.KFold(n_splits=10, random_state=123, shuffle=True)\n",
    "model_xgboost = AdaBoostClassifier(n_estimators=num_trees, random_state=12)\n",
    "results = model_selection.cross_val_score(model_xgboost,train.loc[:, train.columns != 'usertype'],\n",
    "                                          train['usertype'], cv=kfold)"
   ]
  },
  {
   "cell_type": "code",
   "execution_count": null,
   "id": "fed10f85",
   "metadata": {},
   "outputs": [],
   "source": [
    "# report performance\n",
    "print('Accuracy: %.3f (%.3f)' % (results.mean(), results.std()))"
   ]
  },
  {
   "cell_type": "code",
   "execution_count": null,
   "id": "d81d075a",
   "metadata": {},
   "outputs": [],
   "source": [
    "# fit model no training data\n",
    "import xgboost\n",
    "\n",
    "model_xg = xgboost.XGBClassifier()\n",
    "model_xg.fit(x_train, y_train)\n",
    "print(model_xg)"
   ]
  },
  {
   "cell_type": "code",
   "execution_count": null,
   "id": "1a34795f",
   "metadata": {},
   "outputs": [],
   "source": [
    "# make predictions for test data\n",
    "y_pred = model_xg.predict(x_test)\n",
    "predictions = [round(value) for value in y_pred]\n",
    "\n",
    "# evaluate predictions\n",
    "accuracy = accuracy_score(y_test, predictions)\n",
    "print(\"Accuracy: %.2f%%\" % (accuracy * 100.0))"
   ]
  },
  {
   "cell_type": "code",
   "execution_count": null,
   "id": "e0b42c0f",
   "metadata": {},
   "outputs": [],
   "source": [
    "y_pred_test = model_rf.predict(x_test)\n",
    "accuracy_score(y_test, y_pred_test)"
   ]
  },
  {
   "cell_type": "code",
   "execution_count": null,
   "id": "f05107f0",
   "metadata": {},
   "outputs": [],
   "source": [
    "# Get and reshape confusion matrix data\n",
    "matrix = confusion_matrix(y_test, y_pred_test)\n",
    "matrix = matrix.astype('float') / matrix.sum(axis=1)[:, np.newaxis]\n",
    "\n",
    "# Build the plot\n",
    "plt.figure(figsize=(7,5))\n",
    "sns.set(font_scale=1.4)\n",
    "sns.heatmap(matrix, annot=True, annot_kws={'size':10},\n",
    "            cmap=plt.cm.Greens, linewidths=0.2)\n",
    "\n",
    "# Add labels to the plot\n",
    "class_names = ['Customer', 'Subscriber']\n",
    "tick_marks = np.arange(len(class_names))\n",
    "#tick_marks2 = tick_marks + 0.5\n",
    "plt.xticks(tick_marks, class_names, rotation=0)\n",
    "plt.yticks(tick_marks, class_names, rotation=0)\n",
    "plt.xlabel('Predicted label')\n",
    "plt.ylabel('True label')\n",
    "plt.title('Confusion Matrix for Random Forest Model \\n')\n",
    "plt.show()"
   ]
  },
  {
   "cell_type": "code",
   "execution_count": null,
   "id": "bb555534",
   "metadata": {},
   "outputs": [],
   "source": [
    "from sklearn.metrics import classification_report\n",
    "# View the classification report for test data and predictions\n",
    "print(classification_report(y_test, y_pred_test))"
   ]
  },
  {
   "cell_type": "code",
   "execution_count": null,
   "id": "89a05b91",
   "metadata": {},
   "outputs": [],
   "source": [
    "from sklearn.ensemble import VotingClassifier\n",
    "\n",
    "kfold = model_selection.KFold(n_splits=10, random_state=123, shuffle=True)\n",
    "# create the sub models\n",
    "estimators = []\n",
    "model1 = AdaBoostClassifier()\n",
    "estimators.append(('logistic', model1))\n",
    "model2 = DecisionTreeClassifier()\n",
    "estimators.append(('cart', model2))\n",
    "model3 = RandomForestClassifier()\n",
    "estimators.append(('svm', model3))\n",
    "# create the ensemble model\n",
    "ensemble = VotingClassifier(estimators)\n",
    "results = model_selection.cross_val_score(ensemble, x_train, y_train, cv=kfold)\n",
    "print(results.mean())"
   ]
  },
  {
   "cell_type": "markdown",
   "id": "2ec06cde",
   "metadata": {},
   "source": [
    "### Stochastic "
   ]
  },
  {
   "cell_type": "code",
   "execution_count": null,
   "id": "a71e4845",
   "metadata": {},
   "outputs": [],
   "source": [
    "\n",
    "# Stochastic Gradient Boosting Classification\n",
    "import pandas\n",
    "from sklearn import model_selection\n",
    "from sklearn.ensemble import GradientBoostingClassifier\n",
    "url = \"https://raw.githubusercontent.com/jbrownlee/Datasets/master/pima-indians-diabetes.data.csv\"\n",
    "names = ['preg', 'plas', 'pres', 'skin', 'test', 'mass', 'pedi', 'age', 'class']\n",
    "dataframe = pandas.read_csv(url, names=names)\n",
    "array = dataframe.values\n",
    "X = array[:,0:8]\n",
    "Y = array[:,8]\n",
    "seed = 7\n",
    "num_trees = 100\n",
    "kfold = model_selection.KFold(n_splits=10, random_state=seed)\n",
    "model = GradientBoostingClassifier(n_estimators=num_trees, random_state=seed)\n",
    "results = model_selection.cross_val_score(model, X, Y, cv=kfold)\n",
    "print(results.mean())"
   ]
  },
  {
   "cell_type": "markdown",
   "id": "948e5c78",
   "metadata": {},
   "source": [
    "### Ensemble"
   ]
  },
  {
   "cell_type": "code",
   "execution_count": null,
   "id": "4a4560cd",
   "metadata": {},
   "outputs": [],
   "source": [
    "estimators = []\n",
    "model1 = LogisticRegression()\n",
    "estimators.append(('logistic', model1))\n",
    "model2 = DecisionTreeClassifier()\n",
    "estimators.append(('cart', model2))\n",
    "model3 = SVC()\n",
    "estimators.append(('svm', model3))\n",
    "# create the ensemble model\n",
    "ensemble = VotingClassifier(estimators)\n",
    "results = model_selection.cross_val_score(ensemble, X, Y, cv=kfold)\n",
    "print(results.mean())"
   ]
  },
  {
   "cell_type": "code",
   "execution_count": null,
   "id": "4a72f5af",
   "metadata": {},
   "outputs": [],
   "source": [
    "models=[]\n",
    "\n",
    "models.append(('LinearDiscriminantAnalysis',LinearDiscriminantAnalysis()))\n",
    "models.append(('DecisionTreeClassifier',DecisionTreeClassifier()))\n",
    "models.append(('KNeighborsClassifier',KNeighborsClassifier()))\n",
    "models.append(('SVC',SVC()))\n",
    "models.append(('GaussianNB',GaussianNB()))\n",
    "\n",
    "for name,model in models:\n",
    "    kfold=model_selection.KFold(n_splits=10,random_state=0)\n",
    "    result=model_selection.cross_val_score(model,X_train,Y_train,cv=kfold,scoring='accuracy')\n",
    "    print('{},{},{}'.format(name,result.mean(),result.std()))\n"
   ]
  },
  {
   "cell_type": "markdown",
   "id": "34617c34",
   "metadata": {},
   "source": [
    "## modelling:\n",
    "https://www.kaggle.com/carolineecc/xg-boost-random-forest-ridge-lasso-regression\n",
    "\n",
    "Bagging Ensembles including Bagged Decision Trees, Random Forest and Extra Trees.\n",
    "Boosting Ensembles including AdaBoost and Stochastic Gradient Boosting.\n",
    "Voting Ensembles for averaging the predictions for any arbitrary models.\n"
   ]
  },
  {
   "cell_type": "code",
   "execution_count": null,
   "id": "77f3943f",
   "metadata": {},
   "outputs": [],
   "source": []
  }
 ],
 "metadata": {
  "kernelspec": {
   "display_name": "Python@3.8",
   "language": "python",
   "name": "python3.8"
  },
  "language_info": {
   "codemirror_mode": {
    "name": "ipython",
    "version": 3
   },
   "file_extension": ".py",
   "mimetype": "text/x-python",
   "name": "python",
   "nbconvert_exporter": "python",
   "pygments_lexer": "ipython3",
   "version": "3.8.12"
  },
  "toc": {
   "base_numbering": 1,
   "nav_menu": {},
   "number_sections": true,
   "sideBar": true,
   "skip_h1_title": false,
   "title_cell": "Table of Contents",
   "title_sidebar": "Contents",
   "toc_cell": false,
   "toc_position": {
    "height": "calc(100% - 180px)",
    "left": "10px",
    "top": "150px",
    "width": "256.98748779296875px"
   },
   "toc_section_display": true,
   "toc_window_display": true
  }
 },
 "nbformat": 4,
 "nbformat_minor": 5
}
